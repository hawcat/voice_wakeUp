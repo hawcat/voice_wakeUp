{
 "cells": [
  {
   "cell_type": "markdown",
   "id": "f3c299cb-637d-4600-9bbd-bb31fe1c37c5",
   "metadata": {},
   "source": [
    "## 拓展数据集\n",
    "### 与官方数据集噪音部分结合"
   ]
  },
  {
   "cell_type": "code",
   "execution_count": 22,
   "id": "cedbc0b2-e62a-44b1-8b83-924328555380",
   "metadata": {},
   "outputs": [],
   "source": [
    "import pandas as pd\n",
    "import os\n",
    "import pathlib\n",
    "import glob\n",
    "import matplotlib. pyplot as plt\n",
    "import numpy as np\n",
    "import seaborn as sns\n",
    "import librosa\n",
    "from pydub import AudioSegment\n",
    "import random\n",
    "import sklearn as sk \n",
    "import scipy\n",
    "from sklearn import preprocessing\n",
    "from sklearn import model_selection"
   ]
  },
  {
   "cell_type": "code",
   "execution_count": 3,
   "id": "d5a0f71f-0fef-4a59-ad7a-a96360b862b8",
   "metadata": {},
   "outputs": [
    {
     "data": {
      "text/plain": [
       "[WindowsPath('speech_commands_v0.02/backward'),\n",
       " WindowsPath('speech_commands_v0.02/bed'),\n",
       " WindowsPath('speech_commands_v0.02/bird'),\n",
       " WindowsPath('speech_commands_v0.02/cat'),\n",
       " WindowsPath('speech_commands_v0.02/dog'),\n",
       " WindowsPath('speech_commands_v0.02/down'),\n",
       " WindowsPath('speech_commands_v0.02/eight'),\n",
       " WindowsPath('speech_commands_v0.02/five'),\n",
       " WindowsPath('speech_commands_v0.02/follow'),\n",
       " WindowsPath('speech_commands_v0.02/forward'),\n",
       " WindowsPath('speech_commands_v0.02/four'),\n",
       " WindowsPath('speech_commands_v0.02/go'),\n",
       " WindowsPath('speech_commands_v0.02/happy'),\n",
       " WindowsPath('speech_commands_v0.02/house'),\n",
       " WindowsPath('speech_commands_v0.02/learn'),\n",
       " WindowsPath('speech_commands_v0.02/left'),\n",
       " WindowsPath('speech_commands_v0.02/marvin'),\n",
       " WindowsPath('speech_commands_v0.02/max'),\n",
       " WindowsPath('speech_commands_v0.02/nine'),\n",
       " WindowsPath('speech_commands_v0.02/no'),\n",
       " WindowsPath('speech_commands_v0.02/off'),\n",
       " WindowsPath('speech_commands_v0.02/on'),\n",
       " WindowsPath('speech_commands_v0.02/one'),\n",
       " WindowsPath('speech_commands_v0.02/right'),\n",
       " WindowsPath('speech_commands_v0.02/seven'),\n",
       " WindowsPath('speech_commands_v0.02/sheila'),\n",
       " WindowsPath('speech_commands_v0.02/six'),\n",
       " WindowsPath('speech_commands_v0.02/stop'),\n",
       " WindowsPath('speech_commands_v0.02/three'),\n",
       " WindowsPath('speech_commands_v0.02/tree'),\n",
       " WindowsPath('speech_commands_v0.02/two'),\n",
       " WindowsPath('speech_commands_v0.02/up'),\n",
       " WindowsPath('speech_commands_v0.02/visual'),\n",
       " WindowsPath('speech_commands_v0.02/wow'),\n",
       " WindowsPath('speech_commands_v0.02/yes'),\n",
       " WindowsPath('speech_commands_v0.02/zero'),\n",
       " WindowsPath('speech_commands_v0.02/_background_noise_')]"
      ]
     },
     "execution_count": 3,
     "metadata": {},
     "output_type": "execute_result"
    }
   ],
   "source": [
    "data_dir = pathlib.Path(\"speech_commands_v0.02\")\n",
    "[x for x in data_dir.iterdir() if x.is_dir()]"
   ]
  },
  {
   "cell_type": "code",
   "execution_count": 4,
   "id": "7f3fc83d-3979-4263-bddc-76be65057e9b",
   "metadata": {},
   "outputs": [
    {
     "data": {
      "text/plain": [
       "['backward',\n",
       " 'bed',\n",
       " 'bird',\n",
       " 'cat',\n",
       " 'dog',\n",
       " 'down',\n",
       " 'eight',\n",
       " 'five',\n",
       " 'follow',\n",
       " 'forward',\n",
       " 'four',\n",
       " 'go',\n",
       " 'happy',\n",
       " 'house',\n",
       " 'learn',\n",
       " 'left',\n",
       " 'marvin',\n",
       " 'max',\n",
       " 'nine',\n",
       " 'no',\n",
       " 'off',\n",
       " 'on',\n",
       " 'one',\n",
       " 'right',\n",
       " 'seven',\n",
       " 'sheila',\n",
       " 'six',\n",
       " 'stop',\n",
       " 'three',\n",
       " 'tree',\n",
       " 'two',\n",
       " 'up',\n",
       " 'visual',\n",
       " 'wow',\n",
       " 'yes',\n",
       " 'zero',\n",
       " '_background_noise_']"
      ]
     },
     "execution_count": 4,
     "metadata": {},
     "output_type": "execute_result"
    }
   ],
   "source": [
    "from os import listdir\n",
    "from os.path import isfile, join, isdir\n",
    "onlydirs = [d for d in listdir(data_dir) if isdir(join(data_dir, d))]\n",
    "onlydirs"
   ]
  },
  {
   "cell_type": "code",
   "execution_count": 5,
   "id": "087d1128-a88f-45cf-9821-e39492ead064",
   "metadata": {},
   "outputs": [
    {
     "data": {
      "text/plain": [
       "37"
      ]
     },
     "execution_count": 5,
     "metadata": {},
     "output_type": "execute_result"
    }
   ],
   "source": [
    "len(onlydirs)"
   ]
  },
  {
   "cell_type": "code",
   "execution_count": 6,
   "id": "9ba96aac-00e7-4f71-a2f5-aa8d0122b7ab",
   "metadata": {},
   "outputs": [],
   "source": [
    "our_wav = [f for f in os.listdir(join(data_dir, \"max\")) if f.endswith(\".wav\")]"
   ]
  },
  {
   "cell_type": "code",
   "execution_count": 7,
   "id": "e3489465-5a8d-426f-ba94-7f3e86798815",
   "metadata": {},
   "outputs": [
    {
     "data": {
      "text/plain": [
       "['max_1.wav',\n",
       " 'max_10.wav',\n",
       " 'max_100.wav',\n",
       " 'max_101.wav',\n",
       " 'max_102.wav',\n",
       " 'max_103.wav',\n",
       " 'max_104.wav',\n",
       " 'max_105.wav',\n",
       " 'max_106.wav',\n",
       " 'max_107.wav',\n",
       " 'max_108.wav',\n",
       " 'max_109.wav',\n",
       " 'max_11.wav',\n",
       " 'max_110.wav',\n",
       " 'max_12.wav',\n",
       " 'max_13.wav',\n",
       " 'max_14.wav',\n",
       " 'max_15.wav',\n",
       " 'max_16.wav',\n",
       " 'max_17.wav',\n",
       " 'max_18.wav',\n",
       " 'max_19.wav',\n",
       " 'max_2.wav',\n",
       " 'max_20.wav',\n",
       " 'max_21.wav',\n",
       " 'max_22.wav',\n",
       " 'max_23.wav',\n",
       " 'max_24.wav',\n",
       " 'max_25.wav',\n",
       " 'max_26.wav',\n",
       " 'max_27.wav',\n",
       " 'max_28.wav',\n",
       " 'max_29.wav',\n",
       " 'max_3.wav',\n",
       " 'max_30.wav',\n",
       " 'max_31.wav',\n",
       " 'max_32.wav',\n",
       " 'max_33.wav',\n",
       " 'max_34.wav',\n",
       " 'max_35.wav',\n",
       " 'max_36.wav',\n",
       " 'max_37.wav',\n",
       " 'max_38.wav',\n",
       " 'max_39.wav',\n",
       " 'max_4.wav',\n",
       " 'max_40.wav',\n",
       " 'max_41.wav',\n",
       " 'max_42.wav',\n",
       " 'max_43.wav',\n",
       " 'max_44.wav',\n",
       " 'max_45.wav',\n",
       " 'max_46.wav',\n",
       " 'max_47.wav',\n",
       " 'max_48.wav',\n",
       " 'max_49.wav',\n",
       " 'max_5.wav',\n",
       " 'max_50.wav',\n",
       " 'max_51.wav',\n",
       " 'max_52.wav',\n",
       " 'max_53.wav',\n",
       " 'max_54.wav',\n",
       " 'max_55.wav',\n",
       " 'max_56.wav',\n",
       " 'max_57.wav',\n",
       " 'max_58.wav',\n",
       " 'max_59.wav',\n",
       " 'max_6.wav',\n",
       " 'max_60.wav',\n",
       " 'max_61.wav',\n",
       " 'max_64.wav',\n",
       " 'max_65.wav',\n",
       " 'max_66.wav',\n",
       " 'max_67.wav',\n",
       " 'max_68.wav',\n",
       " 'max_69.wav',\n",
       " 'max_7.wav',\n",
       " 'max_70.wav',\n",
       " 'max_71.wav',\n",
       " 'max_72.wav',\n",
       " 'max_73.wav',\n",
       " 'max_74.wav',\n",
       " 'max_75.wav',\n",
       " 'max_76.wav',\n",
       " 'max_77.wav',\n",
       " 'max_78.wav',\n",
       " 'max_79.wav',\n",
       " 'max_8.wav',\n",
       " 'max_80.wav',\n",
       " 'max_81.wav',\n",
       " 'max_82.wav',\n",
       " 'max_83.wav',\n",
       " 'max_84.wav',\n",
       " 'max_85.wav',\n",
       " 'max_86.wav',\n",
       " 'max_87.wav',\n",
       " 'max_88.wav',\n",
       " 'max_89.wav',\n",
       " 'max_9.wav',\n",
       " 'max_90.wav',\n",
       " 'max_91.wav',\n",
       " 'max_92.wav',\n",
       " 'max_93.wav',\n",
       " 'max_94.wav',\n",
       " 'max_95.wav',\n",
       " 'max_96.wav',\n",
       " 'max_97.wav',\n",
       " 'max_98.wav',\n",
       " 'max_99.wav']"
      ]
     },
     "execution_count": 7,
     "metadata": {},
     "output_type": "execute_result"
    }
   ],
   "source": [
    "our_wav"
   ]
  },
  {
   "cell_type": "code",
   "execution_count": 16,
   "id": "d9a4f049-7c58-40e1-8e7d-027c5e196d17",
   "metadata": {},
   "outputs": [],
   "source": [
    "our_audiosegment = []\n",
    "for wav in our_wav:\n",
    "    samples = AudioSegment.from_wav(join(join(data_dir, \"max\"), wav))\n",
    "    our_audiosegment.append(samples)"
   ]
  },
  {
   "cell_type": "code",
   "execution_count": 17,
   "id": "965082a8-e999-496b-a8a9-1c46d72d3f20",
   "metadata": {},
   "outputs": [
    {
     "data": {
      "text/plain": [
       "[<pydub.audio_segment.AudioSegment at 0x2023f34f1f0>,\n",
       " <pydub.audio_segment.AudioSegment at 0x20261f3cc70>,\n",
       " <pydub.audio_segment.AudioSegment at 0x20261f3cc10>,\n",
       " <pydub.audio_segment.AudioSegment at 0x20261f3cbb0>,\n",
       " <pydub.audio_segment.AudioSegment at 0x20261f3cd30>,\n",
       " <pydub.audio_segment.AudioSegment at 0x20261f3d090>,\n",
       " <pydub.audio_segment.AudioSegment at 0x20261f3d0f0>,\n",
       " <pydub.audio_segment.AudioSegment at 0x2021ec6c0a0>,\n",
       " <pydub.audio_segment.AudioSegment at 0x2021ec6cd60>,\n",
       " <pydub.audio_segment.AudioSegment at 0x2021ec6d840>,\n",
       " <pydub.audio_segment.AudioSegment at 0x202630ae320>,\n",
       " <pydub.audio_segment.AudioSegment at 0x202630aff10>,\n",
       " <pydub.audio_segment.AudioSegment at 0x202630acca0>,\n",
       " <pydub.audio_segment.AudioSegment at 0x202630afa00>,\n",
       " <pydub.audio_segment.AudioSegment at 0x202630ad540>,\n",
       " <pydub.audio_segment.AudioSegment at 0x202630ac940>,\n",
       " <pydub.audio_segment.AudioSegment at 0x202630afd60>,\n",
       " <pydub.audio_segment.AudioSegment at 0x20261f2d300>,\n",
       " <pydub.audio_segment.AudioSegment at 0x20261f2c280>,\n",
       " <pydub.audio_segment.AudioSegment at 0x2026314db40>,\n",
       " <pydub.audio_segment.AudioSegment at 0x20262f61330>,\n",
       " <pydub.audio_segment.AudioSegment at 0x20262f60340>,\n",
       " <pydub.audio_segment.AudioSegment at 0x20262f60ee0>,\n",
       " <pydub.audio_segment.AudioSegment at 0x20261f32b90>,\n",
       " <pydub.audio_segment.AudioSegment at 0x20261f48370>,\n",
       " <pydub.audio_segment.AudioSegment at 0x20261f49390>,\n",
       " <pydub.audio_segment.AudioSegment at 0x20261f493c0>,\n",
       " <pydub.audio_segment.AudioSegment at 0x20261f48fa0>,\n",
       " <pydub.audio_segment.AudioSegment at 0x20261f492a0>,\n",
       " <pydub.audio_segment.AudioSegment at 0x20261f49330>,\n",
       " <pydub.audio_segment.AudioSegment at 0x20261f49420>,\n",
       " <pydub.audio_segment.AudioSegment at 0x20261f49480>,\n",
       " <pydub.audio_segment.AudioSegment at 0x20261f494e0>,\n",
       " <pydub.audio_segment.AudioSegment at 0x20261f49540>,\n",
       " <pydub.audio_segment.AudioSegment at 0x20261f495a0>,\n",
       " <pydub.audio_segment.AudioSegment at 0x20261f49600>,\n",
       " <pydub.audio_segment.AudioSegment at 0x20261f49660>,\n",
       " <pydub.audio_segment.AudioSegment at 0x20261f496c0>,\n",
       " <pydub.audio_segment.AudioSegment at 0x20261f49720>,\n",
       " <pydub.audio_segment.AudioSegment at 0x20261f49780>,\n",
       " <pydub.audio_segment.AudioSegment at 0x20261f497e0>,\n",
       " <pydub.audio_segment.AudioSegment at 0x20261f49840>,\n",
       " <pydub.audio_segment.AudioSegment at 0x20261f498a0>,\n",
       " <pydub.audio_segment.AudioSegment at 0x20261f49900>,\n",
       " <pydub.audio_segment.AudioSegment at 0x20261f49960>,\n",
       " <pydub.audio_segment.AudioSegment at 0x20261f499c0>,\n",
       " <pydub.audio_segment.AudioSegment at 0x20261f49a20>,\n",
       " <pydub.audio_segment.AudioSegment at 0x20261f49a80>,\n",
       " <pydub.audio_segment.AudioSegment at 0x20261f49ae0>,\n",
       " <pydub.audio_segment.AudioSegment at 0x20261f49b40>,\n",
       " <pydub.audio_segment.AudioSegment at 0x20261f49ba0>,\n",
       " <pydub.audio_segment.AudioSegment at 0x20261f49c00>,\n",
       " <pydub.audio_segment.AudioSegment at 0x20261f49c60>,\n",
       " <pydub.audio_segment.AudioSegment at 0x20261f49cc0>,\n",
       " <pydub.audio_segment.AudioSegment at 0x20261f49d20>,\n",
       " <pydub.audio_segment.AudioSegment at 0x20261f49d80>,\n",
       " <pydub.audio_segment.AudioSegment at 0x20261f49de0>,\n",
       " <pydub.audio_segment.AudioSegment at 0x20261f49e40>,\n",
       " <pydub.audio_segment.AudioSegment at 0x20261f49ea0>,\n",
       " <pydub.audio_segment.AudioSegment at 0x20261f49f00>,\n",
       " <pydub.audio_segment.AudioSegment at 0x20261f49f60>,\n",
       " <pydub.audio_segment.AudioSegment at 0x20261f49fc0>,\n",
       " <pydub.audio_segment.AudioSegment at 0x20261f4a020>,\n",
       " <pydub.audio_segment.AudioSegment at 0x20261f4a080>,\n",
       " <pydub.audio_segment.AudioSegment at 0x20261f4a0e0>,\n",
       " <pydub.audio_segment.AudioSegment at 0x20261f4a140>,\n",
       " <pydub.audio_segment.AudioSegment at 0x20261f4a1a0>,\n",
       " <pydub.audio_segment.AudioSegment at 0x20261f4a200>,\n",
       " <pydub.audio_segment.AudioSegment at 0x20261f4a260>,\n",
       " <pydub.audio_segment.AudioSegment at 0x20261f4a2c0>,\n",
       " <pydub.audio_segment.AudioSegment at 0x20261f4a320>,\n",
       " <pydub.audio_segment.AudioSegment at 0x20261f4a380>,\n",
       " <pydub.audio_segment.AudioSegment at 0x20261f4a3e0>,\n",
       " <pydub.audio_segment.AudioSegment at 0x20261f4a440>,\n",
       " <pydub.audio_segment.AudioSegment at 0x20261f4a4a0>,\n",
       " <pydub.audio_segment.AudioSegment at 0x20261f4a500>,\n",
       " <pydub.audio_segment.AudioSegment at 0x20261f4a560>,\n",
       " <pydub.audio_segment.AudioSegment at 0x20261f4a5c0>,\n",
       " <pydub.audio_segment.AudioSegment at 0x20261f4a620>,\n",
       " <pydub.audio_segment.AudioSegment at 0x20261f4a680>,\n",
       " <pydub.audio_segment.AudioSegment at 0x20261f4a6e0>,\n",
       " <pydub.audio_segment.AudioSegment at 0x20261f4a740>,\n",
       " <pydub.audio_segment.AudioSegment at 0x20261f4a7a0>,\n",
       " <pydub.audio_segment.AudioSegment at 0x20261f4a800>,\n",
       " <pydub.audio_segment.AudioSegment at 0x20261f4a860>,\n",
       " <pydub.audio_segment.AudioSegment at 0x20261f4a8c0>,\n",
       " <pydub.audio_segment.AudioSegment at 0x20261f4a920>,\n",
       " <pydub.audio_segment.AudioSegment at 0x20261f4a980>,\n",
       " <pydub.audio_segment.AudioSegment at 0x20261f4a9e0>,\n",
       " <pydub.audio_segment.AudioSegment at 0x20261f4aa40>,\n",
       " <pydub.audio_segment.AudioSegment at 0x20261f4aaa0>,\n",
       " <pydub.audio_segment.AudioSegment at 0x20261f4ab00>,\n",
       " <pydub.audio_segment.AudioSegment at 0x20261f4ab60>,\n",
       " <pydub.audio_segment.AudioSegment at 0x20261f4abc0>,\n",
       " <pydub.audio_segment.AudioSegment at 0x20261f4ac20>,\n",
       " <pydub.audio_segment.AudioSegment at 0x20261f4ac80>,\n",
       " <pydub.audio_segment.AudioSegment at 0x20261f4ace0>,\n",
       " <pydub.audio_segment.AudioSegment at 0x20261f4ad40>,\n",
       " <pydub.audio_segment.AudioSegment at 0x20261f4ada0>,\n",
       " <pydub.audio_segment.AudioSegment at 0x20261f4ae00>,\n",
       " <pydub.audio_segment.AudioSegment at 0x20261f4ae60>,\n",
       " <pydub.audio_segment.AudioSegment at 0x20261f4aec0>,\n",
       " <pydub.audio_segment.AudioSegment at 0x20261f4af20>,\n",
       " <pydub.audio_segment.AudioSegment at 0x20261f4af80>,\n",
       " <pydub.audio_segment.AudioSegment at 0x20261f4afe0>,\n",
       " <pydub.audio_segment.AudioSegment at 0x20261f4b040>,\n",
       " <pydub.audio_segment.AudioSegment at 0x20261f4b0a0>,\n",
       " <pydub.audio_segment.AudioSegment at 0x20261f4b160>]"
      ]
     },
     "execution_count": 17,
     "metadata": {},
     "output_type": "execute_result"
    }
   ],
   "source": [
    "our_audiosegment"
   ]
  },
  {
   "cell_type": "code",
   "execution_count": 18,
   "id": "4515cf3a-e6aa-4532-bc72-5ca386069a36",
   "metadata": {},
   "outputs": [],
   "source": [
    "background = [f for f in os.listdir(join(data_dir, \"_background_noise_\")) if f.endswith(\".wav\")]"
   ]
  },
  {
   "cell_type": "code",
   "execution_count": 19,
   "id": "0772a2a6-44e6-44b1-9b9f-77cb48ae661c",
   "metadata": {},
   "outputs": [
    {
     "data": {
      "text/plain": [
       "['doing_the_dishes.wav',\n",
       " 'dude_miaowing.wav',\n",
       " 'exercise_bike.wav',\n",
       " 'pink_noise.wav',\n",
       " 'running_tap.wav',\n",
       " 'white_noise.wav']"
      ]
     },
     "execution_count": 19,
     "metadata": {},
     "output_type": "execute_result"
    }
   ],
   "source": [
    "background"
   ]
  },
  {
   "cell_type": "code",
   "execution_count": 20,
   "id": "d445b202-9d85-440f-8edf-5050886e1111",
   "metadata": {},
   "outputs": [],
   "source": [
    "background_noise = []\n",
    "for wav in background:\n",
    "    samples = AudioSegment.from_wav(join(join(data_dir, \"_background_noise_\"), wav))\n",
    "    background_noise.append(samples)"
   ]
  },
  {
   "cell_type": "code",
   "execution_count": 21,
   "id": "513da100-f750-47d7-b568-2df104dc2657",
   "metadata": {},
   "outputs": [
    {
     "data": {
      "text/plain": [
       "[<pydub.audio_segment.AudioSegment at 0x20261f4b220>,\n",
       " <pydub.audio_segment.AudioSegment at 0x20261f4b340>,\n",
       " <pydub.audio_segment.AudioSegment at 0x20261f4ba30>,\n",
       " <pydub.audio_segment.AudioSegment at 0x20261f3d120>,\n",
       " <pydub.audio_segment.AudioSegment at 0x20261f4b310>,\n",
       " <pydub.audio_segment.AudioSegment at 0x20261f4b8e0>]"
      ]
     },
     "execution_count": 21,
     "metadata": {},
     "output_type": "execute_result"
    }
   ],
   "source": [
    "background_noise"
   ]
  },
  {
   "cell_type": "code",
   "execution_count": 24,
   "id": "1ad5334f-4861-4cc9-84de-0e9990f674f6",
   "metadata": {},
   "outputs": [],
   "source": [
    "SAMPLE_NUM = 5 # 每个数据随机生成5条\n",
    "\n",
    "for our_num, _ in enumerate(our_audiosegment):\n",
    "    for noise_num, _ in enumerate(background_noise):\n",
    "        sound = our_audiosegment[our_num]\n",
    "        for sn in range(SAMPLE_NUM):\n",
    "            duration = len(our_audiosegment[our_num])\n",
    "            selected_noise = background_noise[noise_num]\n",
    "            start_idx = random.randint(0, len(selected_noise) - 1 - duration)\n",
    "            noise = selected_noise[start_idx:(start_idx + duration)]\n",
    "            # noise作为背景音的音量应为sound的一半\n",
    "            noise = noise - ((1.5 * abs(sound.dBFS)) - abs(noise.dBFS))\n",
    "            combined = sound.overlay(noise)\n",
    "            combined.export(join(join(data_dir, \"max\"), f\"sound{our_num}_noise{noise_num}_{sn}.wav\"), format=\"wav\")"
   ]
  },
  {
   "cell_type": "code",
   "execution_count": null,
   "id": "3bede17f-787d-4b5c-bc07-25c7167a30f7",
   "metadata": {},
   "outputs": [],
   "source": []
  }
 ],
 "metadata": {
  "kernelspec": {
   "display_name": "Python 3 (ipykernel)",
   "language": "python",
   "name": "python3"
  },
  "language_info": {
   "codemirror_mode": {
    "name": "ipython",
    "version": 3
   },
   "file_extension": ".py",
   "mimetype": "text/x-python",
   "name": "python",
   "nbconvert_exporter": "python",
   "pygments_lexer": "ipython3",
   "version": "3.10.11"
  }
 },
 "nbformat": 4,
 "nbformat_minor": 5
}
