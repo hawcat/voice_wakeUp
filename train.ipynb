{
 "cells": [
  {
   "cell_type": "markdown",
   "id": "82627397-22e8-4f40-8476-422e952a697d",
   "metadata": {},
   "source": [
    "# 导入相关库\n",
    "# CNN + RNN 模型\n",
    "# 使用Spectrogram"
   ]
  },
  {
   "cell_type": "code",
   "execution_count": 1,
   "id": "48494fad-b451-4089-954d-cf374eec74a9",
   "metadata": {},
   "outputs": [],
   "source": [
    "import pandas as pd\n",
    "import os\n",
    "import pathlib\n",
    "import glob\n",
    "import matplotlib. pyplot as plt\n",
    "import numpy as np\n",
    "import seaborn as sns\n",
    "import librosa\n",
    "from concurrent.futures import ThreadPoolExecutor\n",
    "import sklearn as sk \n",
    "import scipy\n",
    "from sklearn import preprocessing\n",
    "from sklearn import model_selection\n"
   ]
  },
  {
   "cell_type": "markdown",
   "id": "eddfb176-1a60-453f-9a60-1cd5d567fe5f",
   "metadata": {},
   "source": [
    "## 构建数据集"
   ]
  },
  {
   "cell_type": "code",
   "execution_count": 2,
   "id": "26e81b81-a10e-44ae-9437-b4d2c7848e8a",
   "metadata": {},
   "outputs": [],
   "source": [
    "data_dir = pathlib.Path('speech_commands_v0.02/')\n",
    "\n",
    "fileset =[file for file in glob.glob(str(data_dir)+ \"**/**/*.wav\", recursive=True)]"
   ]
  },
  {
   "cell_type": "code",
   "execution_count": 3,
   "id": "62333047-9c94-467b-9edf-e42c72513447",
   "metadata": {},
   "outputs": [
    {
     "data": {
      "text/plain": [
       "26903"
      ]
     },
     "execution_count": 3,
     "metadata": {},
     "output_type": "execute_result"
    }
   ],
   "source": [
    "len(fileset)"
   ]
  },
  {
   "cell_type": "code",
   "execution_count": 4,
   "id": "1f400bdc-b5d2-4bba-bcdd-921fee92bd59",
   "metadata": {},
   "outputs": [],
   "source": [
    "dataset = pd.DataFrame(fileset, columns=['path'])"
   ]
  },
  {
   "cell_type": "code",
   "execution_count": 5,
   "id": "83225486-864f-44f7-8805-3642d910af2c",
   "metadata": {},
   "outputs": [],
   "source": [
    "dataset['command']=dataset['path'].apply(lambda x:os. path.basename(os.path.dirname(x)))"
   ]
  },
  {
   "cell_type": "code",
   "execution_count": 6,
   "id": "5255b11b-7cd3-47fe-98e3-90811611189c",
   "metadata": {},
   "outputs": [
    {
     "data": {
      "text/html": [
       "<div>\n",
       "<style scoped>\n",
       "    .dataframe tbody tr th:only-of-type {\n",
       "        vertical-align: middle;\n",
       "    }\n",
       "\n",
       "    .dataframe tbody tr th {\n",
       "        vertical-align: top;\n",
       "    }\n",
       "\n",
       "    .dataframe thead th {\n",
       "        text-align: right;\n",
       "    }\n",
       "</style>\n",
       "<table border=\"1\" class=\"dataframe\">\n",
       "  <thead>\n",
       "    <tr style=\"text-align: right;\">\n",
       "      <th></th>\n",
       "      <th>path</th>\n",
       "      <th>command</th>\n",
       "    </tr>\n",
       "  </thead>\n",
       "  <tbody>\n",
       "    <tr>\n",
       "      <th>0</th>\n",
       "      <td>speech_commands_v0.02\\go\\004ae714_nohash_0.wav</td>\n",
       "      <td>go</td>\n",
       "    </tr>\n",
       "    <tr>\n",
       "      <th>1</th>\n",
       "      <td>speech_commands_v0.02\\go\\004ae714_nohash_1.wav</td>\n",
       "      <td>go</td>\n",
       "    </tr>\n",
       "    <tr>\n",
       "      <th>2</th>\n",
       "      <td>speech_commands_v0.02\\go\\00970ce1_nohash_0.wav</td>\n",
       "      <td>go</td>\n",
       "    </tr>\n",
       "    <tr>\n",
       "      <th>3</th>\n",
       "      <td>speech_commands_v0.02\\go\\00b01445_nohash_0.wav</td>\n",
       "      <td>go</td>\n",
       "    </tr>\n",
       "    <tr>\n",
       "      <th>4</th>\n",
       "      <td>speech_commands_v0.02\\go\\00f0204f_nohash_0.wav</td>\n",
       "      <td>go</td>\n",
       "    </tr>\n",
       "  </tbody>\n",
       "</table>\n",
       "</div>"
      ],
      "text/plain": [
       "                                             path command\n",
       "0  speech_commands_v0.02\\go\\004ae714_nohash_0.wav      go\n",
       "1  speech_commands_v0.02\\go\\004ae714_nohash_1.wav      go\n",
       "2  speech_commands_v0.02\\go\\00970ce1_nohash_0.wav      go\n",
       "3  speech_commands_v0.02\\go\\00b01445_nohash_0.wav      go\n",
       "4  speech_commands_v0.02\\go\\00f0204f_nohash_0.wav      go"
      ]
     },
     "execution_count": 6,
     "metadata": {},
     "output_type": "execute_result"
    }
   ],
   "source": [
    "dataset.head()"
   ]
  },
  {
   "cell_type": "code",
   "execution_count": 7,
   "id": "834c4a5d-51ff-4759-874f-06a807ff78b2",
   "metadata": {},
   "outputs": [],
   "source": [
    "def log_specgram(audio, sample_rate, window_size=20, step_size=10, eps=1e-10):\n",
    "    nperseg = int(round(window_size * sample_rate /1e3)) # 窗口中采样点的个数\n",
    "    noverlap = int(round(step_size * sample_rate /1e3))\n",
    "    freqs, times, spec = scipy.signal.spectrogram(audio, fs=sample_rate, window='hann', nperseg=nperseg, noverlap=noverlap, detrend=False)\n",
    "\n",
    "    return freqs, times, np.log(spec.T.astype(np.float32) + eps)\n"
   ]
  },
  {
   "cell_type": "code",
   "execution_count": 8,
   "id": "b4514e08-ede0-447a-9ad9-82516bd77107",
   "metadata": {},
   "outputs": [
    {
     "name": "stdout",
     "output_type": "stream",
     "text": [
      "[ -78 -125 -110 ... -287  -65 -201]\n",
      "16000\n",
      "音频长度：(11146,) int16\n",
      "[-0.00238037 -0.0038147  -0.00335693 ... -0.00875854 -0.00198364\n",
      " -0.00613403]\n",
      "16000\n",
      "音频长度：(11146,) float32\n"
     ]
    }
   ],
   "source": [
    "#查看scipy, io读取的数据和librosa的区别\n",
    "from scipy.io import wavfile\n",
    "import scipy.io\n",
    "\n",
    "sample_rate, signal= scipy.io.wavfile.read(dataset.loc[1,'path'])\n",
    "\n",
    "print(signal)\n",
    "print(sample_rate)\n",
    "print(f\"音频长度：{signal.shape}\", signal.dtype)\n",
    "\n",
    "s, sr = librosa.load(dataset.loc[1,'path'], sr=16000)\n",
    "\n",
    "print(s)\n",
    "print(sample_rate)\n",
    "print (f\"音频长度：{s.shape}\", s.dtype)"
   ]
  },
  {
   "cell_type": "code",
   "execution_count": 9,
   "id": "bd7cfa72-3b7b-45ec-9649-e11d41caaa76",
   "metadata": {},
   "outputs": [],
   "source": [
    "def get_specgram(file_path):\n",
    "    sample_rate, signal = scipy.io.wavfile.read(file_path)\n",
    "    signal_padding = np.zeros((16000,))\n",
    "    #统一输入音频文件长度，当音频文件大于1秒时切尾，当音频长度小于1秒时补零signal_padding np. zeros((16000,))\n",
    "    if len(signal)>=16000:\n",
    "        signal_padding = signal[:16000]\n",
    "    else:\n",
    "        signal_padding[:len(signal)] = signal\n",
    "    \n",
    "    #获取频谱\n",
    "    _, _, specgram = log_specgram(signal_padding, sample_rate=sample_rate) \n",
    "    return specgram"
   ]
  },
  {
   "cell_type": "code",
   "execution_count": 10,
   "id": "d92aa8bb-794a-4d17-bc62-dac4a5ff1039",
   "metadata": {},
   "outputs": [
    {
     "data": {
      "text/plain": [
       "'speech_commands_v0.02\\\\go\\\\05b2db80_nohash_0.wav'"
      ]
     },
     "execution_count": 10,
     "metadata": {},
     "output_type": "execute_result"
    }
   ],
   "source": [
    "file_path_check = dataset.loc[80,'path']\n",
    "\n",
    "file_path_check"
   ]
  },
  {
   "cell_type": "code",
   "execution_count": 11,
   "id": "7f6e3b43-dc17-461d-ada1-8acfad5677aa",
   "metadata": {},
   "outputs": [
    {
     "data": {
      "text/plain": [
       "(99, 161)"
      ]
     },
     "execution_count": 11,
     "metadata": {},
     "output_type": "execute_result"
    }
   ],
   "source": [
    "spec_check = get_specgram(file_path_check)\n",
    "\n",
    "spec_check.shape ##(data, time) 适配RNN"
   ]
  },
  {
   "cell_type": "code",
   "execution_count": 12,
   "id": "681a5ad5-7ef3-4ebd-9ecb-ecf20cdd511a",
   "metadata": {},
   "outputs": [
    {
     "data": {
      "text/plain": [
       "<matplotlib.image.AxesImage at 0x21236623e20>"
      ]
     },
     "execution_count": 12,
     "metadata": {},
     "output_type": "execute_result"
    },
    {
     "data": {
      "image/png": "[encoded data removed]",
      "text/plain": [
       "<Figure size 640x480 with 1 Axes>"
      ]
     },
     "metadata": {},
     "output_type": "display_data"
    }
   ],
   "source": [
    "plt.imshow(spec_check)"
   ]
  },
  {
   "cell_type": "code",
   "execution_count": 13,
   "id": "01933325-b781-4740-a196-941e847d2919",
   "metadata": {},
   "outputs": [
    {
     "name": "stderr",
     "output_type": "stream",
     "text": [
      "C:\\Users\\hawcat\\AppData\\Local\\Temp\\ipykernel_42044\\2824997324.py:2: WavFileWarning: Chunk (non-data) not understood, skipping it.\n",
      "  sample_rate, signal = scipy.io.wavfile.read(file_path)\n"
     ]
    }
   ],
   "source": [
    "dataset['spec'] = dataset['path'].apply(lambda x: get_specgram(x))"
   ]
  },
  {
   "cell_type": "code",
   "execution_count": 14,
   "id": "32db2e41-db59-449c-a8df-c692e26ce46f",
   "metadata": {},
   "outputs": [
    {
     "data": {
      "text/html": [
       "<div>\n",
       "<style scoped>\n",
       "    .dataframe tbody tr th:only-of-type {\n",
       "        vertical-align: middle;\n",
       "    }\n",
       "\n",
       "    .dataframe tbody tr th {\n",
       "        vertical-align: top;\n",
       "    }\n",
       "\n",
       "    .dataframe thead th {\n",
       "        text-align: right;\n",
       "    }\n",
       "</style>\n",
       "<table border=\"1\" class=\"dataframe\">\n",
       "  <thead>\n",
       "    <tr style=\"text-align: right;\">\n",
       "      <th></th>\n",
       "      <th>path</th>\n",
       "      <th>command</th>\n",
       "      <th>spec</th>\n",
       "    </tr>\n",
       "  </thead>\n",
       "  <tbody>\n",
       "    <tr>\n",
       "      <th>0</th>\n",
       "      <td>speech_commands_v0.02\\go\\004ae714_nohash_0.wav</td>\n",
       "      <td>go</td>\n",
       "      <td>[[4.58502, 4.145232, -0.007151785, -6.453975, ...</td>\n",
       "    </tr>\n",
       "    <tr>\n",
       "      <th>1</th>\n",
       "      <td>speech_commands_v0.02\\go\\004ae714_nohash_1.wav</td>\n",
       "      <td>go</td>\n",
       "      <td>[[5.2127824, 4.648273, -0.4192507, -0.8653413,...</td>\n",
       "    </tr>\n",
       "    <tr>\n",
       "      <th>2</th>\n",
       "      <td>speech_commands_v0.02\\go\\00970ce1_nohash_0.wav</td>\n",
       "      <td>go</td>\n",
       "      <td>[[2.1306756, 2.3093808, 0.55220026, -1.2955396...</td>\n",
       "    </tr>\n",
       "    <tr>\n",
       "      <th>3</th>\n",
       "      <td>speech_commands_v0.02\\go\\00b01445_nohash_0.wav</td>\n",
       "      <td>go</td>\n",
       "      <td>[[-8.011622, -9.299327, -2.662695, -1.2273933,...</td>\n",
       "    </tr>\n",
       "    <tr>\n",
       "      <th>4</th>\n",
       "      <td>speech_commands_v0.02\\go\\00f0204f_nohash_0.wav</td>\n",
       "      <td>go</td>\n",
       "      <td>[[-1.4270273, 0.29149553, 1.5646031, 1.787156,...</td>\n",
       "    </tr>\n",
       "  </tbody>\n",
       "</table>\n",
       "</div>"
      ],
      "text/plain": [
       "                                             path command  \\\n",
       "0  speech_commands_v0.02\\go\\004ae714_nohash_0.wav      go   \n",
       "1  speech_commands_v0.02\\go\\004ae714_nohash_1.wav      go   \n",
       "2  speech_commands_v0.02\\go\\00970ce1_nohash_0.wav      go   \n",
       "3  speech_commands_v0.02\\go\\00b01445_nohash_0.wav      go   \n",
       "4  speech_commands_v0.02\\go\\00f0204f_nohash_0.wav      go   \n",
       "\n",
       "                                                spec  \n",
       "0  [[4.58502, 4.145232, -0.007151785, -6.453975, ...  \n",
       "1  [[5.2127824, 4.648273, -0.4192507, -0.8653413,...  \n",
       "2  [[2.1306756, 2.3093808, 0.55220026, -1.2955396...  \n",
       "3  [[-8.011622, -9.299327, -2.662695, -1.2273933,...  \n",
       "4  [[-1.4270273, 0.29149553, 1.5646031, 1.787156,...  "
      ]
     },
     "execution_count": 14,
     "metadata": {},
     "output_type": "execute_result"
    }
   ],
   "source": [
    "dataset.head()"
   ]
  },
  {
   "cell_type": "code",
   "execution_count": 15,
   "id": "4db89796-1fd4-4490-90aa-f1115008da8d",
   "metadata": {},
   "outputs": [],
   "source": [
    "le = preprocessing.LabelEncoder()\n",
    "dataset['cmd_value'] = le.fit_transform(dataset['command'])"
   ]
  },
  {
   "cell_type": "code",
   "execution_count": 16,
   "id": "c69cb59e-9956-4623-b6d3-33a10b13a196",
   "metadata": {},
   "outputs": [
    {
     "data": {
      "text/html": [
       "<div>\n",
       "<style scoped>\n",
       "    .dataframe tbody tr th:only-of-type {\n",
       "        vertical-align: middle;\n",
       "    }\n",
       "\n",
       "    .dataframe tbody tr th {\n",
       "        vertical-align: top;\n",
       "    }\n",
       "\n",
       "    .dataframe thead th {\n",
       "        text-align: right;\n",
       "    }\n",
       "</style>\n",
       "<table border=\"1\" class=\"dataframe\">\n",
       "  <thead>\n",
       "    <tr style=\"text-align: right;\">\n",
       "      <th></th>\n",
       "      <th>path</th>\n",
       "      <th>command</th>\n",
       "      <th>spec</th>\n",
       "      <th>cmd_value</th>\n",
       "    </tr>\n",
       "  </thead>\n",
       "  <tbody>\n",
       "    <tr>\n",
       "      <th>26898</th>\n",
       "      <td>speech_commands_v0.02\\_background_noise_\\dude_...</td>\n",
       "      <td>_background_noise_</td>\n",
       "      <td>[[-23.02585, -23.02585, -23.02585, -23.02585, ...</td>\n",
       "      <td>0</td>\n",
       "    </tr>\n",
       "    <tr>\n",
       "      <th>26899</th>\n",
       "      <td>speech_commands_v0.02\\_background_noise_\\exerc...</td>\n",
       "      <td>_background_noise_</td>\n",
       "      <td>[[-23.02585, -23.02585, -23.02585, -23.02585, ...</td>\n",
       "      <td>0</td>\n",
       "    </tr>\n",
       "    <tr>\n",
       "      <th>26900</th>\n",
       "      <td>speech_commands_v0.02\\_background_noise_\\pink_...</td>\n",
       "      <td>_background_noise_</td>\n",
       "      <td>[[15.163007, 14.838174, 13.193706, 12.08154, 1...</td>\n",
       "      <td>0</td>\n",
       "    </tr>\n",
       "    <tr>\n",
       "      <th>26901</th>\n",
       "      <td>speech_commands_v0.02\\_background_noise_\\runni...</td>\n",
       "      <td>_background_noise_</td>\n",
       "      <td>[[-23.02585, -23.02585, -23.02585, -23.02585, ...</td>\n",
       "      <td>0</td>\n",
       "    </tr>\n",
       "    <tr>\n",
       "      <th>26902</th>\n",
       "      <td>speech_commands_v0.02\\_background_noise_\\white...</td>\n",
       "      <td>_background_noise_</td>\n",
       "      <td>[[6.37398, 7.8804846, 10.268957, 10.408761, 7....</td>\n",
       "      <td>0</td>\n",
       "    </tr>\n",
       "  </tbody>\n",
       "</table>\n",
       "</div>"
      ],
      "text/plain": [
       "                                                    path             command  \\\n",
       "26898  speech_commands_v0.02\\_background_noise_\\dude_...  _background_noise_   \n",
       "26899  speech_commands_v0.02\\_background_noise_\\exerc...  _background_noise_   \n",
       "26900  speech_commands_v0.02\\_background_noise_\\pink_...  _background_noise_   \n",
       "26901  speech_commands_v0.02\\_background_noise_\\runni...  _background_noise_   \n",
       "26902  speech_commands_v0.02\\_background_noise_\\white...  _background_noise_   \n",
       "\n",
       "                                                    spec  cmd_value  \n",
       "26898  [[-23.02585, -23.02585, -23.02585, -23.02585, ...          0  \n",
       "26899  [[-23.02585, -23.02585, -23.02585, -23.02585, ...          0  \n",
       "26900  [[15.163007, 14.838174, 13.193706, 12.08154, 1...          0  \n",
       "26901  [[-23.02585, -23.02585, -23.02585, -23.02585, ...          0  \n",
       "26902  [[6.37398, 7.8804846, 10.268957, 10.408761, 7....          0  "
      ]
     },
     "execution_count": 16,
     "metadata": {},
     "output_type": "execute_result"
    }
   ],
   "source": [
    "dataset.tail()"
   ]
  },
  {
   "cell_type": "code",
   "execution_count": 17,
   "id": "7601cabc-6b23-4131-beb6-09c76875e398",
   "metadata": {},
   "outputs": [
    {
     "data": {
      "text/plain": [
       "array(['_background_noise_', 'go', 'max', 'no', 'off', 'on', 'stop',\n",
       "       'wow'], dtype=object)"
      ]
     },
     "execution_count": 17,
     "metadata": {},
     "output_type": "execute_result"
    }
   ],
   "source": [
    "le.classes_"
   ]
  },
  {
   "cell_type": "markdown",
   "id": "7fdfd3f8-606d-4170-8d0b-84611be414a6",
   "metadata": {},
   "source": [
    "## 模型部分"
   ]
  },
  {
   "cell_type": "code",
   "execution_count": 18,
   "id": "05d49127-b815-4055-9f43-ba43a3aa06cb",
   "metadata": {},
   "outputs": [],
   "source": [
    "from tensorflow.keras import backend as K\n",
    "from tensorflow.keras.layers import Dense, Dropout, Flatten, Conv1D, Input, MaxPooling1D, LSTM\n",
    "from tensorflow.keras.layers import BatchNormalization, Activation\n",
    "from tensorflow.keras.models import Model\n",
    "from tensorflow.keras.callbacks import EarlyStopping, ModelCheckpoint"
   ]
  },
  {
   "cell_type": "code",
   "execution_count": 19,
   "id": "72435336-1d2f-470f-afff-7ffc221c3797",
   "metadata": {},
   "outputs": [
    {
     "name": "stdout",
     "output_type": "stream",
     "text": [
      "WARNING:tensorflow:Layer lstm will not use cuDNN kernels since it doesn't meet the criteria. It will use a generic GPU kernel as fallback when running on GPU.\n",
      "WARNING:tensorflow:Layer lstm_1 will not use cuDNN kernels since it doesn't meet the criteria. It will use a generic GPU kernel as fallback when running on GPU.\n",
      "Model: \"model\"\n",
      "_________________________________________________________________\n",
      " Layer (type)                Output Shape              Param #   \n",
      "=================================================================\n",
      " input_1 (InputLayer)        [(None, 99, 161)]         0         \n",
      "                                                                 \n",
      " conv1d (Conv1D)             (None, 23, 256)           412416    \n",
      "                                                                 \n",
      " batch_normalization (BatchN  (None, 23, 256)          1024      \n",
      " ormalization)                                                   \n",
      "                                                                 \n",
      " activation (Activation)     (None, 23, 256)           0         \n",
      "                                                                 \n",
      " dropout (Dropout)           (None, 23, 256)           0         \n",
      "                                                                 \n",
      " lstm (LSTM)                 (None, 23, 128)           197120    \n",
      "                                                                 \n",
      " lstm_1 (LSTM)               (None, 128)               131584    \n",
      "                                                                 \n",
      " dense (Dense)               (None, 64)                8256      \n",
      "                                                                 \n",
      " dropout_1 (Dropout)         (None, 64)                0         \n",
      "                                                                 \n",
      " dense_1 (Dense)             (None, 8)                 520       \n",
      "                                                                 \n",
      "=================================================================\n",
      "Total params: 750,920\n",
      "Trainable params: 750,408\n",
      "Non-trainable params: 512\n",
      "_________________________________________________________________\n"
     ]
    }
   ],
   "source": [
    "input_dim= (99, 161)\n",
    "output_dim = len(le.classes_)\n",
    "dropout =0.2\n",
    "\n",
    "input_data = Input(shape=input_dim)\n",
    "\n",
    "x=Conv1D(filters=256, kernel_size=10, strides=4)(input_data)\n",
    "x=BatchNormalization()(x)\n",
    "x=Activation('relu')(x)\n",
    "x=Dropout(dropout)(x)\n",
    "\n",
    "x=LSTM(128, activation='relu', return_sequences=True, dropout=dropout)(x)\n",
    "x=LSTM(128, activation='relu', return_sequences=False, dropout=dropout)(x)\n",
    "\n",
    "x=Dense(units=64, activation='relu')(x)\n",
    "x=Dropout(dropout)(x)\n",
    "\n",
    "output_data = Dense(output_dim, activation='softmax')(x)\n",
    "\n",
    "K.clear_session\n",
    "model = Model(inputs=input_data, outputs=output_data)\n",
    "model.summary()"
   ]
  },
  {
   "cell_type": "code",
   "execution_count": 20,
   "id": "b97f6b85-31b6-4951-9cd4-0003492b8a20",
   "metadata": {},
   "outputs": [],
   "source": [
    "from tensorflow.keras.optimizers import Adam, SGD\n",
    "from tensorflow.keras.callbacks import TensorBoard\n",
    "\n",
    "sgd = SGD(learning_rate=0.00001, clipnorm=1.0)\n",
    "adam = Adam(learning_rate=1e-4, clipnorm=1.0)\n",
    "model.compile(\n",
    "    loss='sparse_categorical_crossentropy',\n",
    "    optimizer=adam,\n",
    "    metrics=['accuracy']\n",
    ")"
   ]
  },
  {
   "cell_type": "code",
   "execution_count": 21,
   "id": "502046a2-dbf4-412c-a9e3-e474b3969f36",
   "metadata": {},
   "outputs": [],
   "source": [
    "X = np.array([i for i in dataset['spec']])"
   ]
  },
  {
   "cell_type": "code",
   "execution_count": 22,
   "id": "2f992aa0-a198-42e4-b07f-96a43b2d8249",
   "metadata": {},
   "outputs": [
    {
     "data": {
      "text/plain": [
       "(26903, 99, 161)"
      ]
     },
     "execution_count": 22,
     "metadata": {},
     "output_type": "execute_result"
    }
   ],
   "source": [
    "X.shape"
   ]
  },
  {
   "cell_type": "code",
   "execution_count": 23,
   "id": "4fc330e9-ad20-4db1-bece-cea9cb0d899d",
   "metadata": {},
   "outputs": [],
   "source": [
    "y = np.array(dataset['cmd_value'])"
   ]
  },
  {
   "cell_type": "code",
   "execution_count": 24,
   "id": "974b9155-fd3a-4664-bc27-e33e6adfd01e",
   "metadata": {},
   "outputs": [
    {
     "data": {
      "text/plain": [
       "(26903,)"
      ]
     },
     "execution_count": 24,
     "metadata": {},
     "output_type": "execute_result"
    }
   ],
   "source": [
    "y.shape"
   ]
  },
  {
   "cell_type": "code",
   "execution_count": 25,
   "id": "0f2da7a7-e0a8-40f2-a555-cafed5137358",
   "metadata": {},
   "outputs": [],
   "source": [
    "X_train, X_test, y_train, y_test = model_selection.train_test_split(X, y, test_size=0.2, random_state=42) # 8/2"
   ]
  },
  {
   "cell_type": "code",
   "execution_count": 26,
   "id": "516a3910-db4d-4456-9e03-68d819502ee3",
   "metadata": {},
   "outputs": [
    {
     "name": "stdout",
     "output_type": "stream",
     "text": [
      "WARNING:tensorflow:From C:\\Users\\hawcat\\AppData\\Local\\Temp\\ipykernel_42044\\3326022288.py:2: is_gpu_available (from tensorflow.python.framework.test_util) is deprecated and will be removed in a future version.\n",
      "Instructions for updating:\n",
      "Use `tf.config.list_physical_devices('GPU')` instead.\n"
     ]
    },
    {
     "data": {
      "text/plain": [
       "True"
      ]
     },
     "execution_count": 26,
     "metadata": {},
     "output_type": "execute_result"
    }
   ],
   "source": [
    "import tensorflow as tf\n",
    "tf.test.is_gpu_available()"
   ]
  },
  {
   "cell_type": "code",
   "execution_count": 27,
   "id": "0a8d00cb-4d4e-4e24-979c-34cf162047c7",
   "metadata": {},
   "outputs": [
    {
     "name": "stdout",
     "output_type": "stream",
     "text": [
      "Epoch 1/50\n",
      "337/337 [==============================] - ETA: 0s - loss: 1.1609 - accuracy: 0.5784\n",
      "Epoch 1: val_accuracy improved from -inf to 0.73852, saving model to best_model_max.keras\n",
      "337/337 [==============================] - 45s 124ms/step - loss: 1.1609 - accuracy: 0.5784 - val_loss: 0.7575 - val_accuracy: 0.7385\n",
      "Epoch 2/50\n",
      "337/337 [==============================] - ETA: 0s - loss: 0.6531 - accuracy: 0.7751\n",
      "Epoch 2: val_accuracy improved from 0.73852 to 0.82104, saving model to best_model_max.keras\n",
      "337/337 [==============================] - 43s 127ms/step - loss: 0.6531 - accuracy: 0.7751 - val_loss: 0.5048 - val_accuracy: 0.8210\n",
      "Epoch 3/50\n",
      "337/337 [==============================] - ETA: 0s - loss: 0.4698 - accuracy: 0.8408\n",
      "Epoch 3: val_accuracy improved from 0.82104 to 0.88051, saving model to best_model_max.keras\n",
      "337/337 [==============================] - 41s 121ms/step - loss: 0.4698 - accuracy: 0.8408 - val_loss: 0.3698 - val_accuracy: 0.8805\n",
      "Epoch 4/50\n",
      "337/337 [==============================] - ETA: 0s - loss: 0.3740 - accuracy: 0.8741\n",
      "Epoch 4: val_accuracy improved from 0.88051 to 0.88292, saving model to best_model_max.keras\n",
      "337/337 [==============================] - 41s 122ms/step - loss: 0.3740 - accuracy: 0.8741 - val_loss: 0.3390 - val_accuracy: 0.8829\n",
      "Epoch 5/50\n",
      "337/337 [==============================] - ETA: 0s - loss: 0.3281 - accuracy: 0.8896\n",
      "Epoch 5: val_accuracy improved from 0.88292 to 0.91414, saving model to best_model_max.keras\n",
      "337/337 [==============================] - 41s 122ms/step - loss: 0.3281 - accuracy: 0.8896 - val_loss: 0.2539 - val_accuracy: 0.9141\n",
      "Epoch 6/50\n",
      "337/337 [==============================] - ETA: 0s - loss: 0.2843 - accuracy: 0.9057\n",
      "Epoch 6: val_accuracy improved from 0.91414 to 0.92325, saving model to best_model_max.keras\n",
      "337/337 [==============================] - 42s 126ms/step - loss: 0.2843 - accuracy: 0.9057 - val_loss: 0.2337 - val_accuracy: 0.9232\n",
      "Epoch 7/50\n",
      "337/337 [==============================] - ETA: 0s - loss: 0.2606 - accuracy: 0.9173\n",
      "Epoch 7: val_accuracy improved from 0.92325 to 0.92566, saving model to best_model_max.keras\n",
      "337/337 [==============================] - 43s 127ms/step - loss: 0.2606 - accuracy: 0.9173 - val_loss: 0.2308 - val_accuracy: 0.9257\n",
      "Epoch 8/50\n",
      "337/337 [==============================] - ETA: 0s - loss: 0.2314 - accuracy: 0.9256\n",
      "Epoch 8: val_accuracy improved from 0.92566 to 0.92957, saving model to best_model_max.keras\n",
      "337/337 [==============================] - 43s 126ms/step - loss: 0.2314 - accuracy: 0.9256 - val_loss: 0.2232 - val_accuracy: 0.9296\n",
      "Epoch 9/50\n",
      "337/337 [==============================] - ETA: 0s - loss: 0.2141 - accuracy: 0.9305\n",
      "Epoch 9: val_accuracy improved from 0.92957 to 0.93904, saving model to best_model_max.keras\n",
      "337/337 [==============================] - 42s 124ms/step - loss: 0.2141 - accuracy: 0.9305 - val_loss: 0.2023 - val_accuracy: 0.9390\n",
      "Epoch 10/50\n",
      "337/337 [==============================] - ETA: 0s - loss: 0.2008 - accuracy: 0.9350\n",
      "Epoch 10: val_accuracy did not improve from 0.93904\n",
      "337/337 [==============================] - 41s 121ms/step - loss: 0.2008 - accuracy: 0.9350 - val_loss: 0.1939 - val_accuracy: 0.9309\n",
      "Epoch 11/50\n",
      "337/337 [==============================] - ETA: 0s - loss: 0.1822 - accuracy: 0.9409\n",
      "Epoch 11: val_accuracy did not improve from 0.93904\n",
      "337/337 [==============================] - 41s 123ms/step - loss: 0.1822 - accuracy: 0.9409 - val_loss: 0.2143 - val_accuracy: 0.9322\n",
      "Epoch 12/50\n",
      "337/337 [==============================] - ETA: 0s - loss: 0.1706 - accuracy: 0.9444\n",
      "Epoch 12: val_accuracy improved from 0.93904 to 0.94053, saving model to best_model_max.keras\n",
      "337/337 [==============================] - 42s 123ms/step - loss: 0.1706 - accuracy: 0.9444 - val_loss: 0.1760 - val_accuracy: 0.9405\n",
      "Epoch 13/50\n",
      "337/337 [==============================] - ETA: 0s - loss: 0.1645 - accuracy: 0.9450\n",
      "Epoch 13: val_accuracy improved from 0.94053 to 0.94518, saving model to best_model_max.keras\n",
      "337/337 [==============================] - 42s 124ms/step - loss: 0.1645 - accuracy: 0.9450 - val_loss: 0.1733 - val_accuracy: 0.9452\n",
      "Epoch 14/50\n",
      "337/337 [==============================] - ETA: 0s - loss: 0.1561 - accuracy: 0.9471\n",
      "Epoch 14: val_accuracy improved from 0.94518 to 0.94982, saving model to best_model_max.keras\n",
      "337/337 [==============================] - 42s 124ms/step - loss: 0.1561 - accuracy: 0.9471 - val_loss: 0.1556 - val_accuracy: 0.9498\n",
      "Epoch 15/50\n",
      "337/337 [==============================] - ETA: 0s - loss: 0.1452 - accuracy: 0.9521\n",
      "Epoch 15: val_accuracy did not improve from 0.94982\n",
      "337/337 [==============================] - 42s 124ms/step - loss: 0.1452 - accuracy: 0.9521 - val_loss: 0.1540 - val_accuracy: 0.9485\n",
      "Epoch 16/50\n",
      "337/337 [==============================] - ETA: 0s - loss: 0.1344 - accuracy: 0.9549\n",
      "Epoch 16: val_accuracy did not improve from 0.94982\n",
      "337/337 [==============================] - 42s 126ms/step - loss: 0.1344 - accuracy: 0.9549 - val_loss: 0.1754 - val_accuracy: 0.9483\n",
      "Epoch 17/50\n",
      "337/337 [==============================] - ETA: 0s - loss: 0.1305 - accuracy: 0.9559\n",
      "Epoch 17: val_accuracy improved from 0.94982 to 0.95298, saving model to best_model_max.keras\n",
      "337/337 [==============================] - 42s 125ms/step - loss: 0.1305 - accuracy: 0.9559 - val_loss: 0.1461 - val_accuracy: 0.9530\n",
      "Epoch 18/50\n",
      "337/337 [==============================] - ETA: 0s - loss: 0.1246 - accuracy: 0.9587\n",
      "Epoch 18: val_accuracy did not improve from 0.95298\n",
      "337/337 [==============================] - 42s 124ms/step - loss: 0.1246 - accuracy: 0.9587 - val_loss: 0.1658 - val_accuracy: 0.9474\n",
      "Epoch 19/50\n",
      "337/337 [==============================] - ETA: 0s - loss: 0.1217 - accuracy: 0.9609\n",
      "Epoch 19: val_accuracy did not improve from 0.95298\n",
      "337/337 [==============================] - 41s 123ms/step - loss: 0.1217 - accuracy: 0.9609 - val_loss: 0.1844 - val_accuracy: 0.9528\n",
      "Epoch 20/50\n",
      "337/337 [==============================] - ETA: 0s - loss: 0.1160 - accuracy: 0.9612\n",
      "Epoch 20: val_accuracy improved from 0.95298 to 0.95521, saving model to best_model_max.keras\n",
      "337/337 [==============================] - 42s 124ms/step - loss: 0.1160 - accuracy: 0.9612 - val_loss: 0.1449 - val_accuracy: 0.9552\n",
      "Epoch 21/50\n",
      "337/337 [==============================] - ETA: 0s - loss: 0.1209 - accuracy: 0.9616\n",
      "Epoch 21: val_accuracy did not improve from 0.95521\n",
      "337/337 [==============================] - 42s 126ms/step - loss: 0.1209 - accuracy: 0.9616 - val_loss: 0.1788 - val_accuracy: 0.9513\n",
      "Epoch 22/50\n",
      "337/337 [==============================] - ETA: 0s - loss: 0.1110 - accuracy: 0.9646\n",
      "Epoch 22: val_accuracy improved from 0.95521 to 0.95726, saving model to best_model_max.keras\n",
      "337/337 [==============================] - 42s 126ms/step - loss: 0.1110 - accuracy: 0.9646 - val_loss: 0.1466 - val_accuracy: 0.9573\n",
      "Epoch 23/50\n",
      "337/337 [==============================] - ETA: 0s - loss: 0.1069 - accuracy: 0.9649\n",
      "Epoch 23: val_accuracy improved from 0.95726 to 0.95949, saving model to best_model_max.keras\n",
      "337/337 [==============================] - 42s 126ms/step - loss: 0.1069 - accuracy: 0.9649 - val_loss: 0.1436 - val_accuracy: 0.9595\n",
      "Epoch 24/50\n",
      "337/337 [==============================] - ETA: 0s - loss: 0.1057 - accuracy: 0.9652\n",
      "Epoch 24: val_accuracy did not improve from 0.95949\n",
      "337/337 [==============================] - 44s 131ms/step - loss: 0.1057 - accuracy: 0.9652 - val_loss: 0.2260 - val_accuracy: 0.9493\n",
      "Epoch 25/50\n",
      "337/337 [==============================] - ETA: 0s - loss: 0.0956 - accuracy: 0.9677\n",
      "Epoch 25: val_accuracy did not improve from 0.95949\n",
      "337/337 [==============================] - 42s 126ms/step - loss: 0.0956 - accuracy: 0.9677 - val_loss: 0.1784 - val_accuracy: 0.9506\n",
      "Epoch 26/50\n",
      "337/337 [==============================] - ETA: 0s - loss: 0.0972 - accuracy: 0.9691\n",
      "Epoch 26: val_accuracy did not improve from 0.95949\n",
      "337/337 [==============================] - 42s 126ms/step - loss: 0.0972 - accuracy: 0.9691 - val_loss: 0.1770 - val_accuracy: 0.9567\n",
      "Epoch 27/50\n",
      "337/337 [==============================] - ETA: 0s - loss: 0.0919 - accuracy: 0.9702\n",
      "Epoch 27: val_accuracy improved from 0.95949 to 0.96060, saving model to best_model_max.keras\n",
      "337/337 [==============================] - 43s 126ms/step - loss: 0.0919 - accuracy: 0.9702 - val_loss: 0.1671 - val_accuracy: 0.9606\n",
      "Epoch 28/50\n",
      "337/337 [==============================] - ETA: 0s - loss: 0.0918 - accuracy: 0.9707\n",
      "Epoch 28: val_accuracy did not improve from 0.96060\n",
      "337/337 [==============================] - 43s 128ms/step - loss: 0.0918 - accuracy: 0.9707 - val_loss: 0.1631 - val_accuracy: 0.9573\n",
      "Epoch 28: early stopping\n"
     ]
    }
   ],
   "source": [
    "EPOCHS = 50\n",
    "history = model.fit(\n",
    "    x=X_train,\n",
    "    y=y_train,\n",
    "    epochs=EPOCHS,\n",
    "    callbacks=[\n",
    "        TensorBoard(log_dir='logs', histogram_freq=1, update_freq='epoch'),\n",
    "        EarlyStopping(verbose=1, patience=5),\n",
    "        ModelCheckpoint('best_model_max.keras', monitor='val_accuracy', verbose=1, save_best_only=True, mode='max')\n",
    "    ],\n",
    "    batch_size=64,\n",
    "    validation_data=(X_test, y_test)\n",
    ")"
   ]
  },
  {
   "cell_type": "code",
   "execution_count": 28,
   "id": "029ac4a8-2334-4c93-a959-46ea6f166dc0",
   "metadata": {},
   "outputs": [
    {
     "data": {
      "image/png": "[encoded data removed]",
      "text/plain": [
       "<Figure size 640x480 with 1 Axes>"
      ]
     },
     "metadata": {},
     "output_type": "display_data"
    }
   ],
   "source": [
    "metrics = history.history\n",
    "plt.plot(history.epoch, metrics['loss'], metrics['val_loss'])\n",
    "plt.show()"
   ]
  },
  {
   "cell_type": "code",
   "execution_count": null,
   "id": "09396af7-de40-480c-a996-ada487c539f1",
   "metadata": {},
   "outputs": [],
   "source": []
  }
 ],
 "metadata": {
  "kernelspec": {
   "display_name": "Python 3 (ipykernel)",
   "language": "python",
   "name": "python3"
  },
  "language_info": {
   "codemirror_mode": {
    "name": "ipython",
    "version": 3
   },
   "file_extension": ".py",
   "mimetype": "text/x-python",
   "name": "python",
   "nbconvert_exporter": "python",
   "pygments_lexer": "ipython3",
   "version": "3.9.13"
  }
 },
 "nbformat": 4,
 "nbformat_minor": 5
}
