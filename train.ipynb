{
 "cells": [
  {
   "cell_type": "markdown",
   "id": "82627397-22e8-4f40-8476-422e952a697d",
   "metadata": {},
   "source": [
    "# 导入相关库\n",
    "# CNN + RNN 模型\n",
    "# 使用Spectrogram"
   ]
  },
  {
   "cell_type": "code",
   "execution_count": 61,
   "id": "48494fad-b451-4089-954d-cf374eec74a9",
   "metadata": {},
   "outputs": [],
   "source": [
    "import pandas as pd\n",
    "import os\n",
    "import pathlib\n",
    "import glob\n",
    "import matplotlib. pyplot as plt\n",
    "import numpy as np\n",
    "import seaborn as sns\n",
    "import librosa\n",
    "\n",
    "import sklearn as sk \n",
    "import scipy\n",
    "from sklearn import preprocessing\n",
    "from sklearn import model_selection\n"
   ]
  },
  {
   "cell_type": "markdown",
   "id": "eddfb176-1a60-453f-9a60-1cd5d567fe5f",
   "metadata": {},
   "source": [
    "## 构建数据集"
   ]
  },
  {
   "cell_type": "code",
   "execution_count": 91,
   "id": "26e81b81-a10e-44ae-9437-b4d2c7848e8a",
   "metadata": {},
   "outputs": [],
   "source": [
    "data_dir = pathlib.Path('mini_speech_commands/')\n",
    "\n",
    "fileset =[file for file in glob.glob(str(data_dir)+ \"**/**/*.wav\", recursive=True)]"
   ]
  },
  {
   "cell_type": "code",
   "execution_count": 92,
   "id": "62333047-9c94-467b-9edf-e42c72513447",
   "metadata": {},
   "outputs": [
    {
     "data": {
      "text/plain": [
       "8000"
      ]
     },
     "execution_count": 92,
     "metadata": {},
     "output_type": "execute_result"
    }
   ],
   "source": [
    "len(fileset)"
   ]
  },
  {
   "cell_type": "code",
   "execution_count": 93,
   "id": "1f400bdc-b5d2-4bba-bcdd-921fee92bd59",
   "metadata": {},
   "outputs": [],
   "source": [
    "dataset = pd.DataFrame(fileset, columns=['path'])"
   ]
  },
  {
   "cell_type": "code",
   "execution_count": 94,
   "id": "83225486-864f-44f7-8805-3642d910af2c",
   "metadata": {},
   "outputs": [],
   "source": [
    "dataset['command']=dataset['path'].apply(lambda x:os. path.basename(os.path.dirname(x)))"
   ]
  },
  {
   "cell_type": "code",
   "execution_count": 95,
   "id": "5255b11b-7cd3-47fe-98e3-90811611189c",
   "metadata": {},
   "outputs": [
    {
     "data": {
      "text/html": [
       "<div>\n",
       "<style scoped>\n",
       "    .dataframe tbody tr th:only-of-type {\n",
       "        vertical-align: middle;\n",
       "    }\n",
       "\n",
       "    .dataframe tbody tr th {\n",
       "        vertical-align: top;\n",
       "    }\n",
       "\n",
       "    .dataframe thead th {\n",
       "        text-align: right;\n",
       "    }\n",
       "</style>\n",
       "<table border=\"1\" class=\"dataframe\">\n",
       "  <thead>\n",
       "    <tr style=\"text-align: right;\">\n",
       "      <th></th>\n",
       "      <th>path</th>\n",
       "      <th>command</th>\n",
       "    </tr>\n",
       "  </thead>\n",
       "  <tbody>\n",
       "    <tr>\n",
       "      <th>0</th>\n",
       "      <td>mini_speech_commands\\down\\004ae714_nohash_0.wav</td>\n",
       "      <td>down</td>\n",
       "    </tr>\n",
       "    <tr>\n",
       "      <th>1</th>\n",
       "      <td>mini_speech_commands\\down\\00b01445_nohash_1.wav</td>\n",
       "      <td>down</td>\n",
       "    </tr>\n",
       "    <tr>\n",
       "      <th>2</th>\n",
       "      <td>mini_speech_commands\\down\\00f0204f_nohash_0.wav</td>\n",
       "      <td>down</td>\n",
       "    </tr>\n",
       "    <tr>\n",
       "      <th>3</th>\n",
       "      <td>mini_speech_commands\\down\\0132a06d_nohash_1.wav</td>\n",
       "      <td>down</td>\n",
       "    </tr>\n",
       "    <tr>\n",
       "      <th>4</th>\n",
       "      <td>mini_speech_commands\\down\\0132a06d_nohash_4.wav</td>\n",
       "      <td>down</td>\n",
       "    </tr>\n",
       "  </tbody>\n",
       "</table>\n",
       "</div>"
      ],
      "text/plain": [
       "                                              path command\n",
       "0  mini_speech_commands\\down\\004ae714_nohash_0.wav    down\n",
       "1  mini_speech_commands\\down\\00b01445_nohash_1.wav    down\n",
       "2  mini_speech_commands\\down\\00f0204f_nohash_0.wav    down\n",
       "3  mini_speech_commands\\down\\0132a06d_nohash_1.wav    down\n",
       "4  mini_speech_commands\\down\\0132a06d_nohash_4.wav    down"
      ]
     },
     "execution_count": 95,
     "metadata": {},
     "output_type": "execute_result"
    }
   ],
   "source": [
    "dataset.head()"
   ]
  },
  {
   "cell_type": "code",
   "execution_count": 96,
   "id": "834c4a5d-51ff-4759-874f-06a807ff78b2",
   "metadata": {},
   "outputs": [],
   "source": [
    "def log_specgram(audio, sample_rate, window_size=20, step_size=10, eps=1e-10):\n",
    "    nperseg = int(round(window_size * sample_rate /1e3)) # 窗口中采样点的个数\n",
    "    noverlap = int(round(step_size * sample_rate /1e3))\n",
    "    freqs, times, spec = scipy.signal.spectrogram(audio, fs=sample_rate, window='hann', nperseg=nperseg, noverlap=noverlap, detrend=False)\n",
    "\n",
    "    return freqs, times, np.log(spec.T.astype(np.float32) + eps)\n"
   ]
  },
  {
   "cell_type": "code",
   "execution_count": 97,
   "id": "b4514e08-ede0-447a-9ad9-82516bd77107",
   "metadata": {},
   "outputs": [
    {
     "name": "stdout",
     "output_type": "stream",
     "text": [
      "[  53   55   40 ... -137 -152 -180]\n",
      "16000\n",
      "音频长度：(16000,) int16\n",
      "[ 0.00161743  0.00167847  0.0012207  ... -0.00418091 -0.00463867\n",
      " -0.00549316]\n",
      "16000\n",
      "音频长度：(16000,) float32\n"
     ]
    }
   ],
   "source": [
    "#查看scipy, io读取的数据和librosa的区别\n",
    "from scipy.io import wavfile\n",
    "import scipy.io\n",
    "\n",
    "sample_rate, signal= scipy.io.wavfile.read(dataset.loc[1,'path'])\n",
    "\n",
    "print(signal)\n",
    "print(sample_rate)\n",
    "print(f\"音频长度：{signal.shape}\", signal.dtype)\n",
    "\n",
    "s, sr = librosa.load(dataset.loc[1,'path'], sr=16000)\n",
    "\n",
    "print(s)\n",
    "print(sample_rate)\n",
    "print (f\"音频长度：{s.shape}\", s.dtype)"
   ]
  },
  {
   "cell_type": "code",
   "execution_count": 98,
   "id": "bd7cfa72-3b7b-45ec-9649-e11d41caaa76",
   "metadata": {},
   "outputs": [],
   "source": [
    "def get_specgram(file_path):\n",
    "    sample_rate, signal = scipy.io.wavfile.read(file_path)\n",
    "    signal_padding = np.zeros((16000,))\n",
    "    #统一输入音频文件长度，当音频文件大于1秒时切尾，当音频长度小于1秒时补零signal_padding np. zeros((16000,))\n",
    "    if len(signal)>=16000:\n",
    "        signal_padding = signal[:16000]\n",
    "    else:\n",
    "        signal_padding[:len(signal)] = signal\n",
    "    \n",
    "    #获取频谱\n",
    "    _, _, specgram = log_specgram(signal_padding, sample_rate=sample_rate) \n",
    "    return specgram"
   ]
  },
  {
   "cell_type": "code",
   "execution_count": 99,
   "id": "d92aa8bb-794a-4d17-bc62-dac4a5ff1039",
   "metadata": {},
   "outputs": [
    {
     "data": {
      "text/plain": [
       "'mini_speech_commands\\\\down\\\\1942abd7_nohash_0.wav'"
      ]
     },
     "execution_count": 99,
     "metadata": {},
     "output_type": "execute_result"
    }
   ],
   "source": [
    "file_path_check = dataset.loc[80,'path']\n",
    "\n",
    "file_path_check"
   ]
  },
  {
   "cell_type": "code",
   "execution_count": 100,
   "id": "7f6e3b43-dc17-461d-ada1-8acfad5677aa",
   "metadata": {},
   "outputs": [
    {
     "data": {
      "text/plain": [
       "(99, 161)"
      ]
     },
     "execution_count": 100,
     "metadata": {},
     "output_type": "execute_result"
    }
   ],
   "source": [
    "spec_check = get_specgram(file_path_check)\n",
    "\n",
    "spec_check.shape ##(data, time) 适配RNN"
   ]
  },
  {
   "cell_type": "code",
   "execution_count": 101,
   "id": "681a5ad5-7ef3-4ebd-9ecb-ecf20cdd511a",
   "metadata": {},
   "outputs": [
    {
     "data": {
      "text/plain": [
       "<matplotlib.image.AxesImage at 0x246771e6590>"
      ]
     },
     "execution_count": 101,
     "metadata": {},
     "output_type": "execute_result"
    },
    {
     "data": {
      "image/png": "[encoded data removed]",
      "text/plain": [
       "<Figure size 640x480 with 1 Axes>"
      ]
     },
     "metadata": {},
     "output_type": "display_data"
    }
   ],
   "source": [
    "plt.imshow(spec_check)"
   ]
  },
  {
   "cell_type": "code",
   "execution_count": 102,
   "id": "01933325-b781-4740-a196-941e847d2919",
   "metadata": {},
   "outputs": [],
   "source": [
    "dataset['spec'] = dataset['path'].apply(lambda x: get_specgram(x))"
   ]
  },
  {
   "cell_type": "code",
   "execution_count": 103,
   "id": "32db2e41-db59-449c-a8df-c692e26ce46f",
   "metadata": {},
   "outputs": [
    {
     "data": {
      "text/html": [
       "<div>\n",
       "<style scoped>\n",
       "    .dataframe tbody tr th:only-of-type {\n",
       "        vertical-align: middle;\n",
       "    }\n",
       "\n",
       "    .dataframe tbody tr th {\n",
       "        vertical-align: top;\n",
       "    }\n",
       "\n",
       "    .dataframe thead th {\n",
       "        text-align: right;\n",
       "    }\n",
       "</style>\n",
       "<table border=\"1\" class=\"dataframe\">\n",
       "  <thead>\n",
       "    <tr style=\"text-align: right;\">\n",
       "      <th></th>\n",
       "      <th>path</th>\n",
       "      <th>command</th>\n",
       "      <th>spec</th>\n",
       "    </tr>\n",
       "  </thead>\n",
       "  <tbody>\n",
       "    <tr>\n",
       "      <th>0</th>\n",
       "      <td>mini_speech_commands\\down\\004ae714_nohash_0.wav</td>\n",
       "      <td>down</td>\n",
       "      <td>[[6.1564674, 5.6721416, 1.4785006, 1.0322385, ...</td>\n",
       "    </tr>\n",
       "    <tr>\n",
       "      <th>1</th>\n",
       "      <td>mini_speech_commands\\down\\00b01445_nohash_1.wav</td>\n",
       "      <td>down</td>\n",
       "      <td>[[-8.119339, -7.100962, -2.9746146, -1.9071887...</td>\n",
       "    </tr>\n",
       "    <tr>\n",
       "      <th>2</th>\n",
       "      <td>mini_speech_commands\\down\\00f0204f_nohash_0.wav</td>\n",
       "      <td>down</td>\n",
       "      <td>[[3.2663877, 6.1833525, 5.1544065, 5.402227, 5...</td>\n",
       "    </tr>\n",
       "    <tr>\n",
       "      <th>3</th>\n",
       "      <td>mini_speech_commands\\down\\0132a06d_nohash_1.wav</td>\n",
       "      <td>down</td>\n",
       "      <td>[[-7.466669, -9.616711, -4.86994, -3.218716, -...</td>\n",
       "    </tr>\n",
       "    <tr>\n",
       "      <th>4</th>\n",
       "      <td>mini_speech_commands\\down\\0132a06d_nohash_4.wav</td>\n",
       "      <td>down</td>\n",
       "      <td>[[-5.385032, -4.7529283, -4.9070916, -4.096608...</td>\n",
       "    </tr>\n",
       "  </tbody>\n",
       "</table>\n",
       "</div>"
      ],
      "text/plain": [
       "                                              path command  \\\n",
       "0  mini_speech_commands\\down\\004ae714_nohash_0.wav    down   \n",
       "1  mini_speech_commands\\down\\00b01445_nohash_1.wav    down   \n",
       "2  mini_speech_commands\\down\\00f0204f_nohash_0.wav    down   \n",
       "3  mini_speech_commands\\down\\0132a06d_nohash_1.wav    down   \n",
       "4  mini_speech_commands\\down\\0132a06d_nohash_4.wav    down   \n",
       "\n",
       "                                                spec  \n",
       "0  [[6.1564674, 5.6721416, 1.4785006, 1.0322385, ...  \n",
       "1  [[-8.119339, -7.100962, -2.9746146, -1.9071887...  \n",
       "2  [[3.2663877, 6.1833525, 5.1544065, 5.402227, 5...  \n",
       "3  [[-7.466669, -9.616711, -4.86994, -3.218716, -...  \n",
       "4  [[-5.385032, -4.7529283, -4.9070916, -4.096608...  "
      ]
     },
     "execution_count": 103,
     "metadata": {},
     "output_type": "execute_result"
    }
   ],
   "source": [
    "dataset.head()"
   ]
  },
  {
   "cell_type": "code",
   "execution_count": 104,
   "id": "4db89796-1fd4-4490-90aa-f1115008da8d",
   "metadata": {},
   "outputs": [],
   "source": [
    "le = preprocessing.LabelEncoder()\n",
    "dataset['cmd_value'] = le.fit_transform(dataset['command'])"
   ]
  },
  {
   "cell_type": "code",
   "execution_count": 105,
   "id": "c69cb59e-9956-4623-b6d3-33a10b13a196",
   "metadata": {},
   "outputs": [
    {
     "data": {
      "text/html": [
       "<div>\n",
       "<style scoped>\n",
       "    .dataframe tbody tr th:only-of-type {\n",
       "        vertical-align: middle;\n",
       "    }\n",
       "\n",
       "    .dataframe tbody tr th {\n",
       "        vertical-align: top;\n",
       "    }\n",
       "\n",
       "    .dataframe thead th {\n",
       "        text-align: right;\n",
       "    }\n",
       "</style>\n",
       "<table border=\"1\" class=\"dataframe\">\n",
       "  <thead>\n",
       "    <tr style=\"text-align: right;\">\n",
       "      <th></th>\n",
       "      <th>path</th>\n",
       "      <th>command</th>\n",
       "      <th>spec</th>\n",
       "      <th>cmd_value</th>\n",
       "    </tr>\n",
       "  </thead>\n",
       "  <tbody>\n",
       "    <tr>\n",
       "      <th>7995</th>\n",
       "      <td>mini_speech_commands\\yes\\fe1916ba_nohash_1.wav</td>\n",
       "      <td>yes</td>\n",
       "      <td>[[-10.874792, -5.53589, -3.86621, -4.4400816, ...</td>\n",
       "      <td>7</td>\n",
       "    </tr>\n",
       "    <tr>\n",
       "      <th>7996</th>\n",
       "      <td>mini_speech_commands\\yes\\fe5c4a7a_nohash_0.wav</td>\n",
       "      <td>yes</td>\n",
       "      <td>[[7.4970326, 8.869189, 7.062622, 7.239739, 10....</td>\n",
       "      <td>7</td>\n",
       "    </tr>\n",
       "    <tr>\n",
       "      <th>7997</th>\n",
       "      <td>mini_speech_commands\\yes\\ff21fb59_nohash_0.wav</td>\n",
       "      <td>yes</td>\n",
       "      <td>[[1.7132064, 5.4771934, 5.961012, 3.4359176, 1...</td>\n",
       "      <td>7</td>\n",
       "    </tr>\n",
       "    <tr>\n",
       "      <th>7998</th>\n",
       "      <td>mini_speech_commands\\yes\\ffd2ba2f_nohash_0.wav</td>\n",
       "      <td>yes</td>\n",
       "      <td>[[0.16514386, 2.859499, 6.4408054, 7.1973853, ...</td>\n",
       "      <td>7</td>\n",
       "    </tr>\n",
       "    <tr>\n",
       "      <th>7999</th>\n",
       "      <td>mini_speech_commands\\yes\\ffd2ba2f_nohash_2.wav</td>\n",
       "      <td>yes</td>\n",
       "      <td>[[-5.4296527, -3.146472, -1.6233718, -2.900053...</td>\n",
       "      <td>7</td>\n",
       "    </tr>\n",
       "  </tbody>\n",
       "</table>\n",
       "</div>"
      ],
      "text/plain": [
       "                                                path command  \\\n",
       "7995  mini_speech_commands\\yes\\fe1916ba_nohash_1.wav     yes   \n",
       "7996  mini_speech_commands\\yes\\fe5c4a7a_nohash_0.wav     yes   \n",
       "7997  mini_speech_commands\\yes\\ff21fb59_nohash_0.wav     yes   \n",
       "7998  mini_speech_commands\\yes\\ffd2ba2f_nohash_0.wav     yes   \n",
       "7999  mini_speech_commands\\yes\\ffd2ba2f_nohash_2.wav     yes   \n",
       "\n",
       "                                                   spec  cmd_value  \n",
       "7995  [[-10.874792, -5.53589, -3.86621, -4.4400816, ...          7  \n",
       "7996  [[7.4970326, 8.869189, 7.062622, 7.239739, 10....          7  \n",
       "7997  [[1.7132064, 5.4771934, 5.961012, 3.4359176, 1...          7  \n",
       "7998  [[0.16514386, 2.859499, 6.4408054, 7.1973853, ...          7  \n",
       "7999  [[-5.4296527, -3.146472, -1.6233718, -2.900053...          7  "
      ]
     },
     "execution_count": 105,
     "metadata": {},
     "output_type": "execute_result"
    }
   ],
   "source": [
    "dataset.tail()"
   ]
  },
  {
   "cell_type": "code",
   "execution_count": 106,
   "id": "7601cabc-6b23-4131-beb6-09c76875e398",
   "metadata": {},
   "outputs": [
    {
     "data": {
      "text/plain": [
       "array(['down', 'go', 'left', 'no', 'right', 'stop', 'up', 'yes'],\n",
       "      dtype=object)"
      ]
     },
     "execution_count": 106,
     "metadata": {},
     "output_type": "execute_result"
    }
   ],
   "source": [
    "le.classes_"
   ]
  },
  {
   "cell_type": "markdown",
   "id": "7fdfd3f8-606d-4170-8d0b-84611be414a6",
   "metadata": {},
   "source": [
    "## 模型部分"
   ]
  },
  {
   "cell_type": "code",
   "execution_count": 107,
   "id": "05d49127-b815-4055-9f43-ba43a3aa06cb",
   "metadata": {},
   "outputs": [],
   "source": [
    "from tensorflow.keras import backend as K\n",
    "from tensorflow.keras.layers import Dense, Dropout, Flatten, Conv1D, Input, MaxPooling1D, LSTM\n",
    "from tensorflow.keras.layers import BatchNormalization, Activation\n",
    "from tensorflow.keras.models import Model\n",
    "from tensorflow.keras.callbacks import EarlyStopping, ModelCheckpoint"
   ]
  },
  {
   "cell_type": "code",
   "execution_count": 108,
   "id": "72435336-1d2f-470f-afff-7ffc221c3797",
   "metadata": {},
   "outputs": [
    {
     "data": {
      "text/html": [
       "<pre style=\"white-space:pre;overflow-x:auto;line-height:normal;font-family:Menlo,'DejaVu Sans Mono',consolas,'Courier New',monospace\"><span style=\"font-weight: bold\">Model: \"functional_3\"</span>\n",
       "</pre>\n"
      ],
      "text/plain": [
       "\u001b[1mModel: \"functional_3\"\u001b[0m\n"
      ]
     },
     "metadata": {},
     "output_type": "display_data"
    },
    {
     "data": {
      "text/html": [
       "<pre style=\"white-space:pre;overflow-x:auto;line-height:normal;font-family:Menlo,'DejaVu Sans Mono',consolas,'Courier New',monospace\">┏━━━━━━━━━━━━━━━━━━━━━━━━━━━━━━━━━━━━━━┳━━━━━━━━━━━━━━━━━━━━━━━━━━━━━┳━━━━━━━━━━━━━━━━━┓\n",
       "┃<span style=\"font-weight: bold\"> Layer (type)                         </span>┃<span style=\"font-weight: bold\"> Output Shape                </span>┃<span style=\"font-weight: bold\">         Param # </span>┃\n",
       "┡━━━━━━━━━━━━━━━━━━━━━━━━━━━━━━━━━━━━━━╇━━━━━━━━━━━━━━━━━━━━━━━━━━━━━╇━━━━━━━━━━━━━━━━━┩\n",
       "│ input_layer_3 (<span style=\"color: #0087ff; text-decoration-color: #0087ff\">InputLayer</span>)           │ (<span style=\"color: #00d7ff; text-decoration-color: #00d7ff\">None</span>, <span style=\"color: #00af00; text-decoration-color: #00af00\">99</span>, <span style=\"color: #00af00; text-decoration-color: #00af00\">161</span>)             │               <span style=\"color: #00af00; text-decoration-color: #00af00\">0</span> │\n",
       "├──────────────────────────────────────┼─────────────────────────────┼─────────────────┤\n",
       "│ conv1d_3 (<span style=\"color: #0087ff; text-decoration-color: #0087ff\">Conv1D</span>)                    │ (<span style=\"color: #00d7ff; text-decoration-color: #00d7ff\">None</span>, <span style=\"color: #00af00; text-decoration-color: #00af00\">23</span>, <span style=\"color: #00af00; text-decoration-color: #00af00\">256</span>)             │         <span style=\"color: #00af00; text-decoration-color: #00af00\">412,416</span> │\n",
       "├──────────────────────────────────────┼─────────────────────────────┼─────────────────┤\n",
       "│ batch_normalization_3                │ (<span style=\"color: #00d7ff; text-decoration-color: #00d7ff\">None</span>, <span style=\"color: #00af00; text-decoration-color: #00af00\">23</span>, <span style=\"color: #00af00; text-decoration-color: #00af00\">256</span>)             │           <span style=\"color: #00af00; text-decoration-color: #00af00\">1,024</span> │\n",
       "│ (<span style=\"color: #0087ff; text-decoration-color: #0087ff\">BatchNormalization</span>)                 │                             │                 │\n",
       "├──────────────────────────────────────┼─────────────────────────────┼─────────────────┤\n",
       "│ activation_3 (<span style=\"color: #0087ff; text-decoration-color: #0087ff\">Activation</span>)            │ (<span style=\"color: #00d7ff; text-decoration-color: #00d7ff\">None</span>, <span style=\"color: #00af00; text-decoration-color: #00af00\">23</span>, <span style=\"color: #00af00; text-decoration-color: #00af00\">256</span>)             │               <span style=\"color: #00af00; text-decoration-color: #00af00\">0</span> │\n",
       "├──────────────────────────────────────┼─────────────────────────────┼─────────────────┤\n",
       "│ dropout_6 (<span style=\"color: #0087ff; text-decoration-color: #0087ff\">Dropout</span>)                  │ (<span style=\"color: #00d7ff; text-decoration-color: #00d7ff\">None</span>, <span style=\"color: #00af00; text-decoration-color: #00af00\">23</span>, <span style=\"color: #00af00; text-decoration-color: #00af00\">256</span>)             │               <span style=\"color: #00af00; text-decoration-color: #00af00\">0</span> │\n",
       "├──────────────────────────────────────┼─────────────────────────────┼─────────────────┤\n",
       "│ lstm_6 (<span style=\"color: #0087ff; text-decoration-color: #0087ff\">LSTM</span>)                        │ (<span style=\"color: #00d7ff; text-decoration-color: #00d7ff\">None</span>, <span style=\"color: #00af00; text-decoration-color: #00af00\">23</span>, <span style=\"color: #00af00; text-decoration-color: #00af00\">128</span>)             │         <span style=\"color: #00af00; text-decoration-color: #00af00\">197,120</span> │\n",
       "├──────────────────────────────────────┼─────────────────────────────┼─────────────────┤\n",
       "│ lstm_7 (<span style=\"color: #0087ff; text-decoration-color: #0087ff\">LSTM</span>)                        │ (<span style=\"color: #00d7ff; text-decoration-color: #00d7ff\">None</span>, <span style=\"color: #00af00; text-decoration-color: #00af00\">128</span>)                 │         <span style=\"color: #00af00; text-decoration-color: #00af00\">131,584</span> │\n",
       "├──────────────────────────────────────┼─────────────────────────────┼─────────────────┤\n",
       "│ dense_6 (<span style=\"color: #0087ff; text-decoration-color: #0087ff\">Dense</span>)                      │ (<span style=\"color: #00d7ff; text-decoration-color: #00d7ff\">None</span>, <span style=\"color: #00af00; text-decoration-color: #00af00\">64</span>)                  │           <span style=\"color: #00af00; text-decoration-color: #00af00\">8,256</span> │\n",
       "├──────────────────────────────────────┼─────────────────────────────┼─────────────────┤\n",
       "│ dropout_7 (<span style=\"color: #0087ff; text-decoration-color: #0087ff\">Dropout</span>)                  │ (<span style=\"color: #00d7ff; text-decoration-color: #00d7ff\">None</span>, <span style=\"color: #00af00; text-decoration-color: #00af00\">64</span>)                  │               <span style=\"color: #00af00; text-decoration-color: #00af00\">0</span> │\n",
       "├──────────────────────────────────────┼─────────────────────────────┼─────────────────┤\n",
       "│ dense_7 (<span style=\"color: #0087ff; text-decoration-color: #0087ff\">Dense</span>)                      │ (<span style=\"color: #00d7ff; text-decoration-color: #00d7ff\">None</span>, <span style=\"color: #00af00; text-decoration-color: #00af00\">8</span>)                   │             <span style=\"color: #00af00; text-decoration-color: #00af00\">520</span> │\n",
       "└──────────────────────────────────────┴─────────────────────────────┴─────────────────┘\n",
       "</pre>\n"
      ],
      "text/plain": [
       "┏━━━━━━━━━━━━━━━━━━━━━━━━━━━━━━━━━━━━━━┳━━━━━━━━━━━━━━━━━━━━━━━━━━━━━┳━━━━━━━━━━━━━━━━━┓\n",
       "┃\u001b[1m \u001b[0m\u001b[1mLayer (type)                        \u001b[0m\u001b[1m \u001b[0m┃\u001b[1m \u001b[0m\u001b[1mOutput Shape               \u001b[0m\u001b[1m \u001b[0m┃\u001b[1m \u001b[0m\u001b[1m        Param #\u001b[0m\u001b[1m \u001b[0m┃\n",
       "┡━━━━━━━━━━━━━━━━━━━━━━━━━━━━━━━━━━━━━━╇━━━━━━━━━━━━━━━━━━━━━━━━━━━━━╇━━━━━━━━━━━━━━━━━┩\n",
       "│ input_layer_3 (\u001b[38;5;33mInputLayer\u001b[0m)           │ (\u001b[38;5;45mNone\u001b[0m, \u001b[38;5;34m99\u001b[0m, \u001b[38;5;34m161\u001b[0m)             │               \u001b[38;5;34m0\u001b[0m │\n",
       "├──────────────────────────────────────┼─────────────────────────────┼─────────────────┤\n",
       "│ conv1d_3 (\u001b[38;5;33mConv1D\u001b[0m)                    │ (\u001b[38;5;45mNone\u001b[0m, \u001b[38;5;34m23\u001b[0m, \u001b[38;5;34m256\u001b[0m)             │         \u001b[38;5;34m412,416\u001b[0m │\n",
       "├──────────────────────────────────────┼─────────────────────────────┼─────────────────┤\n",
       "│ batch_normalization_3                │ (\u001b[38;5;45mNone\u001b[0m, \u001b[38;5;34m23\u001b[0m, \u001b[38;5;34m256\u001b[0m)             │           \u001b[38;5;34m1,024\u001b[0m │\n",
       "│ (\u001b[38;5;33mBatchNormalization\u001b[0m)                 │                             │                 │\n",
       "├──────────────────────────────────────┼─────────────────────────────┼─────────────────┤\n",
       "│ activation_3 (\u001b[38;5;33mActivation\u001b[0m)            │ (\u001b[38;5;45mNone\u001b[0m, \u001b[38;5;34m23\u001b[0m, \u001b[38;5;34m256\u001b[0m)             │               \u001b[38;5;34m0\u001b[0m │\n",
       "├──────────────────────────────────────┼─────────────────────────────┼─────────────────┤\n",
       "│ dropout_6 (\u001b[38;5;33mDropout\u001b[0m)                  │ (\u001b[38;5;45mNone\u001b[0m, \u001b[38;5;34m23\u001b[0m, \u001b[38;5;34m256\u001b[0m)             │               \u001b[38;5;34m0\u001b[0m │\n",
       "├──────────────────────────────────────┼─────────────────────────────┼─────────────────┤\n",
       "│ lstm_6 (\u001b[38;5;33mLSTM\u001b[0m)                        │ (\u001b[38;5;45mNone\u001b[0m, \u001b[38;5;34m23\u001b[0m, \u001b[38;5;34m128\u001b[0m)             │         \u001b[38;5;34m197,120\u001b[0m │\n",
       "├──────────────────────────────────────┼─────────────────────────────┼─────────────────┤\n",
       "│ lstm_7 (\u001b[38;5;33mLSTM\u001b[0m)                        │ (\u001b[38;5;45mNone\u001b[0m, \u001b[38;5;34m128\u001b[0m)                 │         \u001b[38;5;34m131,584\u001b[0m │\n",
       "├──────────────────────────────────────┼─────────────────────────────┼─────────────────┤\n",
       "│ dense_6 (\u001b[38;5;33mDense\u001b[0m)                      │ (\u001b[38;5;45mNone\u001b[0m, \u001b[38;5;34m64\u001b[0m)                  │           \u001b[38;5;34m8,256\u001b[0m │\n",
       "├──────────────────────────────────────┼─────────────────────────────┼─────────────────┤\n",
       "│ dropout_7 (\u001b[38;5;33mDropout\u001b[0m)                  │ (\u001b[38;5;45mNone\u001b[0m, \u001b[38;5;34m64\u001b[0m)                  │               \u001b[38;5;34m0\u001b[0m │\n",
       "├──────────────────────────────────────┼─────────────────────────────┼─────────────────┤\n",
       "│ dense_7 (\u001b[38;5;33mDense\u001b[0m)                      │ (\u001b[38;5;45mNone\u001b[0m, \u001b[38;5;34m8\u001b[0m)                   │             \u001b[38;5;34m520\u001b[0m │\n",
       "└──────────────────────────────────────┴─────────────────────────────┴─────────────────┘\n"
      ]
     },
     "metadata": {},
     "output_type": "display_data"
    },
    {
     "data": {
      "text/html": [
       "<pre style=\"white-space:pre;overflow-x:auto;line-height:normal;font-family:Menlo,'DejaVu Sans Mono',consolas,'Courier New',monospace\"><span style=\"font-weight: bold\"> Total params: </span><span style=\"color: #00af00; text-decoration-color: #00af00\">750,920</span> (2.86 MB)\n",
       "</pre>\n"
      ],
      "text/plain": [
       "\u001b[1m Total params: \u001b[0m\u001b[38;5;34m750,920\u001b[0m (2.86 MB)\n"
      ]
     },
     "metadata": {},
     "output_type": "display_data"
    },
    {
     "data": {
      "text/html": [
       "<pre style=\"white-space:pre;overflow-x:auto;line-height:normal;font-family:Menlo,'DejaVu Sans Mono',consolas,'Courier New',monospace\"><span style=\"font-weight: bold\"> Trainable params: </span><span style=\"color: #00af00; text-decoration-color: #00af00\">750,408</span> (2.86 MB)\n",
       "</pre>\n"
      ],
      "text/plain": [
       "\u001b[1m Trainable params: \u001b[0m\u001b[38;5;34m750,408\u001b[0m (2.86 MB)\n"
      ]
     },
     "metadata": {},
     "output_type": "display_data"
    },
    {
     "data": {
      "text/html": [
       "<pre style=\"white-space:pre;overflow-x:auto;line-height:normal;font-family:Menlo,'DejaVu Sans Mono',consolas,'Courier New',monospace\"><span style=\"font-weight: bold\"> Non-trainable params: </span><span style=\"color: #00af00; text-decoration-color: #00af00\">512</span> (2.00 KB)\n",
       "</pre>\n"
      ],
      "text/plain": [
       "\u001b[1m Non-trainable params: \u001b[0m\u001b[38;5;34m512\u001b[0m (2.00 KB)\n"
      ]
     },
     "metadata": {},
     "output_type": "display_data"
    }
   ],
   "source": [
    "input_dim= (99, 161)\n",
    "output_dim = len(le.classes_)\n",
    "dropout =0.2\n",
    "\n",
    "input_data = Input(shape=input_dim)\n",
    "\n",
    "x=Conv1D(filters=256, kernel_size=10, strides=4)(input_data)\n",
    "x=BatchNormalization()(x)\n",
    "x=Activation('relu')(x)\n",
    "x=Dropout(dropout)(x)\n",
    "\n",
    "x=LSTM(128, activation='relu', return_sequences=True, dropout=dropout)(x)\n",
    "x=LSTM(128, activation='relu', return_sequences=False, dropout=dropout)(x)\n",
    "\n",
    "x=Dense(units=64, activation='relu')(x)\n",
    "x=Dropout(dropout)(x)\n",
    "\n",
    "output_data = Dense(output_dim, activation='softmax')(x)\n",
    "\n",
    "K.clear_session\n",
    "model = Model(inputs=input_data, outputs=output_data)\n",
    "model.summary()"
   ]
  },
  {
   "cell_type": "code",
   "execution_count": 109,
   "id": "b97f6b85-31b6-4951-9cd4-0003492b8a20",
   "metadata": {},
   "outputs": [],
   "source": [
    "from tensorflow.keras.optimizers import Adam, SGD\n",
    "from tensorflow.keras.callbacks import TensorBoard\n",
    "\n",
    "sgd = SGD(learning_rate=0.00001, clipnorm=1.0)\n",
    "adam = Adam(learning_rate=1e-4, clipnorm=1.0)\n",
    "model.compile(\n",
    "    loss='sparse_categorical_crossentropy',\n",
    "    optimizer=adam,\n",
    "    metrics=['accuracy']\n",
    ")"
   ]
  },
  {
   "cell_type": "code",
   "execution_count": 110,
   "id": "502046a2-dbf4-412c-a9e3-e474b3969f36",
   "metadata": {},
   "outputs": [],
   "source": [
    "X = np.array([i for i in dataset['spec']])"
   ]
  },
  {
   "cell_type": "code",
   "execution_count": 111,
   "id": "2f992aa0-a198-42e4-b07f-96a43b2d8249",
   "metadata": {},
   "outputs": [
    {
     "data": {
      "text/plain": [
       "(8000, 99, 161)"
      ]
     },
     "execution_count": 111,
     "metadata": {},
     "output_type": "execute_result"
    }
   ],
   "source": [
    "X.shape"
   ]
  },
  {
   "cell_type": "code",
   "execution_count": 112,
   "id": "4fc330e9-ad20-4db1-bece-cea9cb0d899d",
   "metadata": {},
   "outputs": [],
   "source": [
    "y = np.array(dataset['cmd_value'])"
   ]
  },
  {
   "cell_type": "code",
   "execution_count": 113,
   "id": "974b9155-fd3a-4664-bc27-e33e6adfd01e",
   "metadata": {},
   "outputs": [
    {
     "data": {
      "text/plain": [
       "(8000,)"
      ]
     },
     "execution_count": 113,
     "metadata": {},
     "output_type": "execute_result"
    }
   ],
   "source": [
    "y.shape"
   ]
  },
  {
   "cell_type": "code",
   "execution_count": 114,
   "id": "0f2da7a7-e0a8-40f2-a555-cafed5137358",
   "metadata": {},
   "outputs": [],
   "source": [
    "X_train, X_test, y_train, y_test = model_selection.train_test_split(X, y, test_size=0.2, random_state=42) # 8/2"
   ]
  },
  {
   "cell_type": "code",
   "execution_count": 115,
   "id": "0a8d00cb-4d4e-4e24-979c-34cf162047c7",
   "metadata": {},
   "outputs": [
    {
     "name": "stdout",
     "output_type": "stream",
     "text": [
      "Epoch 1/50\n",
      "\u001b[1m100/100\u001b[0m \u001b[32m━━━━━━━━━━━━━━━━━━━━\u001b[0m\u001b[37m\u001b[0m \u001b[1m0s\u001b[0m 133ms/step - accuracy: 0.1997 - loss: 2.0229\n",
      "Epoch 1: val_accuracy improved from -inf to 0.25750, saving model to best_model.keras\n",
      "\u001b[1m100/100\u001b[0m \u001b[32m━━━━━━━━━━━━━━━━━━━━\u001b[0m\u001b[37m\u001b[0m \u001b[1m20s\u001b[0m 154ms/step - accuracy: 0.2002 - loss: 2.0220 - val_accuracy: 0.2575 - val_loss: 2.1028\n",
      "Epoch 2/50\n",
      "\u001b[1m100/100\u001b[0m \u001b[32m━━━━━━━━━━━━━━━━━━━━\u001b[0m\u001b[37m\u001b[0m \u001b[1m0s\u001b[0m 134ms/step - accuracy: 0.3511 - loss: 1.7567\n",
      "Epoch 2: val_accuracy improved from 0.25750 to 0.40062, saving model to best_model.keras\n",
      "\u001b[1m100/100\u001b[0m \u001b[32m━━━━━━━━━━━━━━━━━━━━\u001b[0m\u001b[37m\u001b[0m \u001b[1m15s\u001b[0m 151ms/step - accuracy: 0.3514 - loss: 1.7559 - val_accuracy: 0.4006 - val_loss: 1.5776\n",
      "Epoch 3/50\n",
      "\u001b[1m100/100\u001b[0m \u001b[32m━━━━━━━━━━━━━━━━━━━━\u001b[0m\u001b[37m\u001b[0m \u001b[1m0s\u001b[0m 134ms/step - accuracy: 0.4255 - loss: 1.5749\n",
      "Epoch 3: val_accuracy improved from 0.40062 to 0.53125, saving model to best_model.keras\n",
      "\u001b[1m100/100\u001b[0m \u001b[32m━━━━━━━━━━━━━━━━━━━━\u001b[0m\u001b[37m\u001b[0m \u001b[1m15s\u001b[0m 151ms/step - accuracy: 0.4257 - loss: 1.5745 - val_accuracy: 0.5312 - val_loss: 1.3031\n",
      "Epoch 4/50\n",
      "\u001b[1m100/100\u001b[0m \u001b[32m━━━━━━━━━━━━━━━━━━━━\u001b[0m\u001b[37m\u001b[0m \u001b[1m0s\u001b[0m 134ms/step - accuracy: 0.4823 - loss: 1.3966\n",
      "Epoch 4: val_accuracy improved from 0.53125 to 0.59000, saving model to best_model.keras\n",
      "\u001b[1m100/100\u001b[0m \u001b[32m━━━━━━━━━━━━━━━━━━━━\u001b[0m\u001b[37m\u001b[0m \u001b[1m15s\u001b[0m 150ms/step - accuracy: 0.4824 - loss: 1.3963 - val_accuracy: 0.5900 - val_loss: 1.1492\n",
      "Epoch 5/50\n",
      "\u001b[1m100/100\u001b[0m \u001b[32m━━━━━━━━━━━━━━━━━━━━\u001b[0m\u001b[37m\u001b[0m \u001b[1m0s\u001b[0m 133ms/step - accuracy: 0.5223 - loss: 1.2875\n",
      "Epoch 5: val_accuracy improved from 0.59000 to 0.61375, saving model to best_model.keras\n",
      "\u001b[1m100/100\u001b[0m \u001b[32m━━━━━━━━━━━━━━━━━━━━\u001b[0m\u001b[37m\u001b[0m \u001b[1m15s\u001b[0m 150ms/step - accuracy: 0.5224 - loss: 1.2870 - val_accuracy: 0.6137 - val_loss: 1.0115\n",
      "Epoch 6/50\n",
      "\u001b[1m100/100\u001b[0m \u001b[32m━━━━━━━━━━━━━━━━━━━━\u001b[0m\u001b[37m\u001b[0m \u001b[1m0s\u001b[0m 142ms/step - accuracy: 0.5705 - loss: 1.1390\n",
      "Epoch 6: val_accuracy improved from 0.61375 to 0.65938, saving model to best_model.keras\n",
      "\u001b[1m100/100\u001b[0m \u001b[32m━━━━━━━━━━━━━━━━━━━━\u001b[0m\u001b[37m\u001b[0m \u001b[1m16s\u001b[0m 159ms/step - accuracy: 0.5707 - loss: 1.1386 - val_accuracy: 0.6594 - val_loss: 0.9050\n",
      "Epoch 7/50\n",
      "\u001b[1m100/100\u001b[0m \u001b[32m━━━━━━━━━━━━━━━━━━━━\u001b[0m\u001b[37m\u001b[0m \u001b[1m0s\u001b[0m 134ms/step - accuracy: 0.6407 - loss: 0.9796\n",
      "Epoch 7: val_accuracy improved from 0.65938 to 0.70875, saving model to best_model.keras\n",
      "\u001b[1m100/100\u001b[0m \u001b[32m━━━━━━━━━━━━━━━━━━━━\u001b[0m\u001b[37m\u001b[0m \u001b[1m15s\u001b[0m 150ms/step - accuracy: 0.6407 - loss: 0.9795 - val_accuracy: 0.7088 - val_loss: 0.8052\n",
      "Epoch 8/50\n",
      "\u001b[1m100/100\u001b[0m \u001b[32m━━━━━━━━━━━━━━━━━━━━\u001b[0m\u001b[37m\u001b[0m \u001b[1m0s\u001b[0m 134ms/step - accuracy: 0.6618 - loss: 0.9324\n",
      "Epoch 8: val_accuracy improved from 0.70875 to 0.75250, saving model to best_model.keras\n",
      "\u001b[1m100/100\u001b[0m \u001b[32m━━━━━━━━━━━━━━━━━━━━\u001b[0m\u001b[37m\u001b[0m \u001b[1m15s\u001b[0m 151ms/step - accuracy: 0.6619 - loss: 0.9321 - val_accuracy: 0.7525 - val_loss: 0.6921\n",
      "Epoch 9/50\n",
      "\u001b[1m100/100\u001b[0m \u001b[32m━━━━━━━━━━━━━━━━━━━━\u001b[0m\u001b[37m\u001b[0m \u001b[1m0s\u001b[0m 132ms/step - accuracy: 0.6899 - loss: 0.8725\n",
      "Epoch 9: val_accuracy improved from 0.75250 to 0.78062, saving model to best_model.keras\n",
      "\u001b[1m100/100\u001b[0m \u001b[32m━━━━━━━━━━━━━━━━━━━━\u001b[0m\u001b[37m\u001b[0m \u001b[1m15s\u001b[0m 148ms/step - accuracy: 0.6900 - loss: 0.8724 - val_accuracy: 0.7806 - val_loss: 0.6331\n",
      "Epoch 10/50\n",
      "\u001b[1m100/100\u001b[0m \u001b[32m━━━━━━━━━━━━━━━━━━━━\u001b[0m\u001b[37m\u001b[0m \u001b[1m0s\u001b[0m 133ms/step - accuracy: 0.7140 - loss: 0.7797\n",
      "Epoch 10: val_accuracy improved from 0.78062 to 0.80125, saving model to best_model.keras\n",
      "\u001b[1m100/100\u001b[0m \u001b[32m━━━━━━━━━━━━━━━━━━━━\u001b[0m\u001b[37m\u001b[0m \u001b[1m15s\u001b[0m 150ms/step - accuracy: 0.7140 - loss: 0.7797 - val_accuracy: 0.8012 - val_loss: 0.6082\n",
      "Epoch 11/50\n",
      "\u001b[1m100/100\u001b[0m \u001b[32m━━━━━━━━━━━━━━━━━━━━\u001b[0m\u001b[37m\u001b[0m \u001b[1m0s\u001b[0m 131ms/step - accuracy: 0.7403 - loss: 0.7343\n",
      "Epoch 11: val_accuracy improved from 0.80125 to 0.81937, saving model to best_model.keras\n",
      "\u001b[1m100/100\u001b[0m \u001b[32m━━━━━━━━━━━━━━━━━━━━\u001b[0m\u001b[37m\u001b[0m \u001b[1m15s\u001b[0m 148ms/step - accuracy: 0.7403 - loss: 0.7343 - val_accuracy: 0.8194 - val_loss: 0.5222\n",
      "Epoch 12/50\n",
      "\u001b[1m100/100\u001b[0m \u001b[32m━━━━━━━━━━━━━━━━━━━━\u001b[0m\u001b[37m\u001b[0m \u001b[1m0s\u001b[0m 133ms/step - accuracy: 0.7585 - loss: 0.6821\n",
      "Epoch 12: val_accuracy improved from 0.81937 to 0.84000, saving model to best_model.keras\n",
      "\u001b[1m100/100\u001b[0m \u001b[32m━━━━━━━━━━━━━━━━━━━━\u001b[0m\u001b[37m\u001b[0m \u001b[1m15s\u001b[0m 150ms/step - accuracy: 0.7585 - loss: 0.6820 - val_accuracy: 0.8400 - val_loss: 0.4791\n",
      "Epoch 13/50\n",
      "\u001b[1m100/100\u001b[0m \u001b[32m━━━━━━━━━━━━━━━━━━━━\u001b[0m\u001b[37m\u001b[0m \u001b[1m0s\u001b[0m 131ms/step - accuracy: 0.7812 - loss: 0.6353\n",
      "Epoch 13: val_accuracy did not improve from 0.84000\n",
      "\u001b[1m100/100\u001b[0m \u001b[32m━━━━━━━━━━━━━━━━━━━━\u001b[0m\u001b[37m\u001b[0m \u001b[1m15s\u001b[0m 147ms/step - accuracy: 0.7812 - loss: 0.6353 - val_accuracy: 0.8375 - val_loss: 0.4742\n",
      "Epoch 14/50\n",
      "\u001b[1m100/100\u001b[0m \u001b[32m━━━━━━━━━━━━━━━━━━━━\u001b[0m\u001b[37m\u001b[0m \u001b[1m0s\u001b[0m 131ms/step - accuracy: 0.7957 - loss: 0.5834\n",
      "Epoch 14: val_accuracy improved from 0.84000 to 0.84562, saving model to best_model.keras\n",
      "\u001b[1m100/100\u001b[0m \u001b[32m━━━━━━━━━━━━━━━━━━━━\u001b[0m\u001b[37m\u001b[0m \u001b[1m15s\u001b[0m 148ms/step - accuracy: 0.7957 - loss: 0.5836 - val_accuracy: 0.8456 - val_loss: 0.4295\n",
      "Epoch 15/50\n",
      "\u001b[1m100/100\u001b[0m \u001b[32m━━━━━━━━━━━━━━━━━━━━\u001b[0m\u001b[37m\u001b[0m \u001b[1m0s\u001b[0m 140ms/step - accuracy: 0.7977 - loss: 0.5757\n",
      "Epoch 15: val_accuracy improved from 0.84562 to 0.85688, saving model to best_model.keras\n",
      "\u001b[1m100/100\u001b[0m \u001b[32m━━━━━━━━━━━━━━━━━━━━\u001b[0m\u001b[37m\u001b[0m \u001b[1m22s\u001b[0m 159ms/step - accuracy: 0.7977 - loss: 0.5756 - val_accuracy: 0.8569 - val_loss: 0.4344\n",
      "Epoch 16/50\n",
      "\u001b[1m100/100\u001b[0m \u001b[32m━━━━━━━━━━━━━━━━━━━━\u001b[0m\u001b[37m\u001b[0m \u001b[1m0s\u001b[0m 131ms/step - accuracy: 0.8251 - loss: 0.5236\n",
      "Epoch 16: val_accuracy improved from 0.85688 to 0.86813, saving model to best_model.keras\n",
      "\u001b[1m100/100\u001b[0m \u001b[32m━━━━━━━━━━━━━━━━━━━━\u001b[0m\u001b[37m\u001b[0m \u001b[1m19s\u001b[0m 148ms/step - accuracy: 0.8250 - loss: 0.5237 - val_accuracy: 0.8681 - val_loss: 0.3956\n",
      "Epoch 17/50\n",
      "\u001b[1m100/100\u001b[0m \u001b[32m━━━━━━━━━━━━━━━━━━━━\u001b[0m\u001b[37m\u001b[0m \u001b[1m0s\u001b[0m 131ms/step - accuracy: 0.8480 - loss: 0.4843\n",
      "Epoch 17: val_accuracy improved from 0.86813 to 0.87437, saving model to best_model.keras\n",
      "\u001b[1m100/100\u001b[0m \u001b[32m━━━━━━━━━━━━━━━━━━━━\u001b[0m\u001b[37m\u001b[0m \u001b[1m15s\u001b[0m 148ms/step - accuracy: 0.8480 - loss: 0.4844 - val_accuracy: 0.8744 - val_loss: 0.3809\n",
      "Epoch 18/50\n",
      "\u001b[1m100/100\u001b[0m \u001b[32m━━━━━━━━━━━━━━━━━━━━\u001b[0m\u001b[37m\u001b[0m \u001b[1m0s\u001b[0m 132ms/step - accuracy: 0.8477 - loss: 0.4585\n",
      "Epoch 18: val_accuracy did not improve from 0.87437\n",
      "\u001b[1m100/100\u001b[0m \u001b[32m━━━━━━━━━━━━━━━━━━━━\u001b[0m\u001b[37m\u001b[0m \u001b[1m21s\u001b[0m 148ms/step - accuracy: 0.8476 - loss: 0.4586 - val_accuracy: 0.8725 - val_loss: 0.3735\n",
      "Epoch 19/50\n",
      "\u001b[1m100/100\u001b[0m \u001b[32m━━━━━━━━━━━━━━━━━━━━\u001b[0m\u001b[37m\u001b[0m \u001b[1m0s\u001b[0m 131ms/step - accuracy: 0.8481 - loss: 0.4372\n",
      "Epoch 19: val_accuracy improved from 0.87437 to 0.89750, saving model to best_model.keras\n",
      "\u001b[1m100/100\u001b[0m \u001b[32m━━━━━━━━━━━━━━━━━━━━\u001b[0m\u001b[37m\u001b[0m \u001b[1m15s\u001b[0m 148ms/step - accuracy: 0.8482 - loss: 0.4371 - val_accuracy: 0.8975 - val_loss: 0.3398\n",
      "Epoch 20/50\n",
      "\u001b[1m100/100\u001b[0m \u001b[32m━━━━━━━━━━━━━━━━━━━━\u001b[0m\u001b[37m\u001b[0m \u001b[1m0s\u001b[0m 134ms/step - accuracy: 0.8586 - loss: 0.4281\n",
      "Epoch 20: val_accuracy did not improve from 0.89750\n",
      "\u001b[1m100/100\u001b[0m \u001b[32m━━━━━━━━━━━━━━━━━━━━\u001b[0m\u001b[37m\u001b[0m \u001b[1m15s\u001b[0m 151ms/step - accuracy: 0.8586 - loss: 0.4280 - val_accuracy: 0.8838 - val_loss: 0.3532\n",
      "Epoch 21/50\n",
      "\u001b[1m100/100\u001b[0m \u001b[32m━━━━━━━━━━━━━━━━━━━━\u001b[0m\u001b[37m\u001b[0m \u001b[1m0s\u001b[0m 132ms/step - accuracy: 0.8615 - loss: 0.4178\n",
      "Epoch 21: val_accuracy did not improve from 0.89750\n",
      "\u001b[1m100/100\u001b[0m \u001b[32m━━━━━━━━━━━━━━━━━━━━\u001b[0m\u001b[37m\u001b[0m \u001b[1m15s\u001b[0m 148ms/step - accuracy: 0.8616 - loss: 0.4177 - val_accuracy: 0.8869 - val_loss: 0.3394\n",
      "Epoch 22/50\n",
      "\u001b[1m100/100\u001b[0m \u001b[32m━━━━━━━━━━━━━━━━━━━━\u001b[0m\u001b[37m\u001b[0m \u001b[1m0s\u001b[0m 131ms/step - accuracy: 0.8732 - loss: 0.3973\n",
      "Epoch 22: val_accuracy did not improve from 0.89750\n",
      "\u001b[1m100/100\u001b[0m \u001b[32m━━━━━━━━━━━━━━━━━━━━\u001b[0m\u001b[37m\u001b[0m \u001b[1m15s\u001b[0m 147ms/step - accuracy: 0.8732 - loss: 0.3972 - val_accuracy: 0.8888 - val_loss: 0.3202\n",
      "Epoch 23/50\n",
      "\u001b[1m100/100\u001b[0m \u001b[32m━━━━━━━━━━━━━━━━━━━━\u001b[0m\u001b[37m\u001b[0m \u001b[1m0s\u001b[0m 130ms/step - accuracy: 0.8791 - loss: 0.3662\n",
      "Epoch 23: val_accuracy did not improve from 0.89750\n",
      "\u001b[1m100/100\u001b[0m \u001b[32m━━━━━━━━━━━━━━━━━━━━\u001b[0m\u001b[37m\u001b[0m \u001b[1m15s\u001b[0m 146ms/step - accuracy: 0.8791 - loss: 0.3662 - val_accuracy: 0.8950 - val_loss: 0.3274\n",
      "Epoch 24/50\n",
      "\u001b[1m100/100\u001b[0m \u001b[32m━━━━━━━━━━━━━━━━━━━━\u001b[0m\u001b[37m\u001b[0m \u001b[1m0s\u001b[0m 131ms/step - accuracy: 0.8843 - loss: 0.3496\n",
      "Epoch 24: val_accuracy improved from 0.89750 to 0.90625, saving model to best_model.keras\n",
      "\u001b[1m100/100\u001b[0m \u001b[32m━━━━━━━━━━━━━━━━━━━━\u001b[0m\u001b[37m\u001b[0m \u001b[1m15s\u001b[0m 147ms/step - accuracy: 0.8843 - loss: 0.3497 - val_accuracy: 0.9062 - val_loss: 0.2941\n",
      "Epoch 25/50\n",
      "\u001b[1m100/100\u001b[0m \u001b[32m━━━━━━━━━━━━━━━━━━━━\u001b[0m\u001b[37m\u001b[0m \u001b[1m0s\u001b[0m 134ms/step - accuracy: 0.8903 - loss: 0.3433\n",
      "Epoch 25: val_accuracy improved from 0.90625 to 0.91750, saving model to best_model.keras\n",
      "\u001b[1m100/100\u001b[0m \u001b[32m━━━━━━━━━━━━━━━━━━━━\u001b[0m\u001b[37m\u001b[0m \u001b[1m15s\u001b[0m 151ms/step - accuracy: 0.8903 - loss: 0.3433 - val_accuracy: 0.9175 - val_loss: 0.2681\n",
      "Epoch 26/50\n",
      "\u001b[1m100/100\u001b[0m \u001b[32m━━━━━━━━━━━━━━━━━━━━\u001b[0m\u001b[37m\u001b[0m \u001b[1m0s\u001b[0m 161ms/step - accuracy: 0.8986 - loss: 0.3062\n",
      "Epoch 26: val_accuracy did not improve from 0.91750\n",
      "\u001b[1m100/100\u001b[0m \u001b[32m━━━━━━━━━━━━━━━━━━━━\u001b[0m\u001b[37m\u001b[0m \u001b[1m18s\u001b[0m 180ms/step - accuracy: 0.8985 - loss: 0.3064 - val_accuracy: 0.9094 - val_loss: 0.2996\n",
      "Epoch 27/50\n",
      "\u001b[1m100/100\u001b[0m \u001b[32m━━━━━━━━━━━━━━━━━━━━\u001b[0m\u001b[37m\u001b[0m \u001b[1m0s\u001b[0m 136ms/step - accuracy: 0.8944 - loss: 0.3364\n",
      "Epoch 27: val_accuracy did not improve from 0.91750\n",
      "\u001b[1m100/100\u001b[0m \u001b[32m━━━━━━━━━━━━━━━━━━━━\u001b[0m\u001b[37m\u001b[0m \u001b[1m15s\u001b[0m 152ms/step - accuracy: 0.8944 - loss: 0.3363 - val_accuracy: 0.9119 - val_loss: 0.2773\n",
      "Epoch 28/50\n",
      "\u001b[1m100/100\u001b[0m \u001b[32m━━━━━━━━━━━━━━━━━━━━\u001b[0m\u001b[37m\u001b[0m \u001b[1m0s\u001b[0m 134ms/step - accuracy: 0.8933 - loss: 0.3124\n",
      "Epoch 28: val_accuracy did not improve from 0.91750\n",
      "\u001b[1m100/100\u001b[0m \u001b[32m━━━━━━━━━━━━━━━━━━━━\u001b[0m\u001b[37m\u001b[0m \u001b[1m15s\u001b[0m 150ms/step - accuracy: 0.8933 - loss: 0.3123 - val_accuracy: 0.9131 - val_loss: 0.2637\n",
      "Epoch 29/50\n",
      "\u001b[1m100/100\u001b[0m \u001b[32m━━━━━━━━━━━━━━━━━━━━\u001b[0m\u001b[37m\u001b[0m \u001b[1m0s\u001b[0m 133ms/step - accuracy: 0.9029 - loss: 0.2934\n",
      "Epoch 29: val_accuracy did not improve from 0.91750\n",
      "\u001b[1m100/100\u001b[0m \u001b[32m━━━━━━━━━━━━━━━━━━━━\u001b[0m\u001b[37m\u001b[0m \u001b[1m15s\u001b[0m 148ms/step - accuracy: 0.9029 - loss: 0.2934 - val_accuracy: 0.9144 - val_loss: 0.2678\n",
      "Epoch 30/50\n",
      "\u001b[1m100/100\u001b[0m \u001b[32m━━━━━━━━━━━━━━━━━━━━\u001b[0m\u001b[37m\u001b[0m \u001b[1m0s\u001b[0m 130ms/step - accuracy: 0.9046 - loss: 0.3007\n",
      "Epoch 30: val_accuracy improved from 0.91750 to 0.91812, saving model to best_model.keras\n",
      "\u001b[1m100/100\u001b[0m \u001b[32m━━━━━━━━━━━━━━━━━━━━\u001b[0m\u001b[37m\u001b[0m \u001b[1m15s\u001b[0m 147ms/step - accuracy: 0.9046 - loss: 0.3006 - val_accuracy: 0.9181 - val_loss: 0.2896\n",
      "Epoch 31/50\n",
      "\u001b[1m100/100\u001b[0m \u001b[32m━━━━━━━━━━━━━━━━━━━━\u001b[0m\u001b[37m\u001b[0m \u001b[1m0s\u001b[0m 136ms/step - accuracy: 0.9086 - loss: 0.2869\n",
      "Epoch 31: val_accuracy did not improve from 0.91812\n",
      "\u001b[1m100/100\u001b[0m \u001b[32m━━━━━━━━━━━━━━━━━━━━\u001b[0m\u001b[37m\u001b[0m \u001b[1m15s\u001b[0m 152ms/step - accuracy: 0.9086 - loss: 0.2868 - val_accuracy: 0.9075 - val_loss: 0.3063\n",
      "Epoch 32/50\n",
      "\u001b[1m100/100\u001b[0m \u001b[32m━━━━━━━━━━━━━━━━━━━━\u001b[0m\u001b[37m\u001b[0m \u001b[1m0s\u001b[0m 134ms/step - accuracy: 0.9122 - loss: 0.2701\n",
      "Epoch 32: val_accuracy did not improve from 0.91812\n",
      "\u001b[1m100/100\u001b[0m \u001b[32m━━━━━━━━━━━━━━━━━━━━\u001b[0m\u001b[37m\u001b[0m \u001b[1m15s\u001b[0m 150ms/step - accuracy: 0.9122 - loss: 0.2701 - val_accuracy: 0.9175 - val_loss: 0.2838\n",
      "Epoch 33/50\n",
      "\u001b[1m100/100\u001b[0m \u001b[32m━━━━━━━━━━━━━━━━━━━━\u001b[0m\u001b[37m\u001b[0m \u001b[1m0s\u001b[0m 134ms/step - accuracy: 0.9128 - loss: 0.2688\n",
      "Epoch 33: val_accuracy did not improve from 0.91812\n",
      "\u001b[1m100/100\u001b[0m \u001b[32m━━━━━━━━━━━━━━━━━━━━\u001b[0m\u001b[37m\u001b[0m \u001b[1m15s\u001b[0m 150ms/step - accuracy: 0.9128 - loss: 0.2687 - val_accuracy: 0.9150 - val_loss: 0.2877\n",
      "Epoch 33: early stopping\n"
     ]
    }
   ],
   "source": [
    "EPOCHS = 50\n",
    "history = model.fit(\n",
    "    x=X_train,\n",
    "    y=y_train,\n",
    "    epochs=EPOCHS,\n",
    "    callbacks=[\n",
    "        TensorBoard(log_dir='logs', histogram_freq=1, update_freq='epoch'),\n",
    "        EarlyStopping(verbose=1, patience=5),\n",
    "        ModelCheckpoint('best_model.keras', monitor='val_accuracy', verbose=1, save_best_only=True, mode='max')\n",
    "    ],\n",
    "    batch_size=64,\n",
    "    validation_data=(X_test, y_test)\n",
    ")"
   ]
  },
  {
   "cell_type": "code",
   "execution_count": 116,
   "id": "029ac4a8-2334-4c93-a959-46ea6f166dc0",
   "metadata": {},
   "outputs": [
    {
     "data": {
      "image/png": "[encoded data removed]",
      "text/plain": [
       "<Figure size 640x480 with 1 Axes>"
      ]
     },
     "metadata": {},
     "output_type": "display_data"
    }
   ],
   "source": [
    "metrics = history.history\n",
    "plt.plot(history.epoch, metrics['loss'], metrics['val_loss'])\n",
    "plt.show()"
   ]
  },
  {
   "cell_type": "code",
   "execution_count": null,
   "id": "09396af7-de40-480c-a996-ada487c539f1",
   "metadata": {},
   "outputs": [],
   "source": []
  }
 ],
 "metadata": {
  "kernelspec": {
   "display_name": "Python 3 (ipykernel)",
   "language": "python",
   "name": "python3"
  },
  "language_info": {
   "codemirror_mode": {
    "name": "ipython",
    "version": 3
   },
   "file_extension": ".py",
   "mimetype": "text/x-python",
   "name": "python",
   "nbconvert_exporter": "python",
   "pygments_lexer": "ipython3",
   "version": "3.10.11"
  }
 },
 "nbformat": 4,
 "nbformat_minor": 5
}
